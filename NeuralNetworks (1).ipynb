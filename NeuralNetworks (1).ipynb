{
  "nbformat": 4,
  "nbformat_minor": 0,
  "metadata": {
    "colab": {
      "name": "NeuralNetworks.ipynb",
      "provenance": [],
      "collapsed_sections": []
    },
    "kernelspec": {
      "name": "python3",
      "display_name": "Python 3"
    },
    "language_info": {
      "name": "python"
    }
  },
  "cells": [
    {
      "cell_type": "code",
      "execution_count": 1,
      "metadata": {
        "colab": {
          "base_uri": "https://localhost:8080/"
        },
        "id": "nmFCWnWsb9or",
        "outputId": "f5a8d18a-49e8-49e9-bb7b-7e5ea6c793ea"
      },
      "outputs": [
        {
          "output_type": "stream",
          "name": "stdout",
          "text": [
            "Drive already mounted at /content/drive; to attempt to forcibly remount, call drive.mount(\"/content/drive\", force_remount=True).\n"
          ]
        }
      ],
      "source": [
        "from google.colab import drive\n",
        "drive.mount('/content/drive')"
      ]
    },
    {
      "cell_type": "code",
      "source": [
        "%cd /content/drive/MyDrive/logistic"
      ],
      "metadata": {
        "colab": {
          "base_uri": "https://localhost:8080/"
        },
        "id": "2oOjO8TM43LS",
        "outputId": "58e19332-0f5e-4572-eb01-91d0f4a85191"
      },
      "execution_count": 2,
      "outputs": [
        {
          "output_type": "stream",
          "name": "stdout",
          "text": [
            "/content/drive/MyDrive/logistic\n"
          ]
        }
      ]
    },
    {
      "cell_type": "code",
      "source": [
        "!pwd"
      ],
      "metadata": {
        "colab": {
          "base_uri": "https://localhost:8080/"
        },
        "id": "wY0X6wlj4q94",
        "outputId": "f911ef2e-b5aa-4e8c-ad07-ce9f86b77a80"
      },
      "execution_count": 3,
      "outputs": [
        {
          "output_type": "stream",
          "name": "stdout",
          "text": [
            "/content/drive/MyDrive/logistic\n"
          ]
        }
      ]
    },
    {
      "cell_type": "code",
      "source": [
        "import numpy as np\n",
        "import pandas as pd\n",
        "import matplotlib.pyplot as mpl"
      ],
      "metadata": {
        "id": "upxSv-4Y4yvS"
      },
      "execution_count": 4,
      "outputs": []
    },
    {
      "cell_type": "code",
      "source": [
        "df_train = pd.read_csv('/content/drive/MyDrive/logistic/emnist-letters-train.csv', header= None)\n",
        "train = df_train.to_numpy()"
      ],
      "metadata": {
        "id": "eIOEkFxC49SP"
      },
      "execution_count": 5,
      "outputs": []
    },
    {
      "cell_type": "code",
      "source": [
        "input1 = train[0:62000, 1:]/255 #Scaling values between 0 and 1\n",
        "ylabels = train[0:62000, 0]"
      ],
      "metadata": {
        "id": "YzBdXRM_5KNi"
      },
      "execution_count": 6,
      "outputs": []
    },
    {
      "cell_type": "code",
      "source": [
        "x0 = np.ones([np.shape(input1)[0], 1])\n",
        "input = np.concatenate((x0, input1),axis = 1)\n",
        "print(np.shape(input))"
      ],
      "metadata": {
        "colab": {
          "base_uri": "https://localhost:8080/"
        },
        "id": "JdfmU5bM8na8",
        "outputId": "4b1a7d62-b31d-4a74-b878-fd82f758380c"
      },
      "execution_count": 7,
      "outputs": [
        {
          "output_type": "stream",
          "name": "stdout",
          "text": [
            "(62000, 785)\n"
          ]
        }
      ]
    },
    {
      "cell_type": "code",
      "source": [
        "uniquech = set(ylabels)\n",
        "logisticY = np.zeros([np.size(ylabels), len(uniquech)])\n",
        "for i in range(np.size(ylabels)):\n",
        "  for j in range(1, len(uniquech)+1):\n",
        "    if ylabels[i] == j:\n",
        "      logisticY[i,j-1] = 1\n",
        "print(logisticY)"
      ],
      "metadata": {
        "colab": {
          "base_uri": "https://localhost:8080/"
        },
        "id": "pqd3WO2R68Tp",
        "outputId": "594fe584-6a46-40a8-ea23-33c6b260cdfc"
      },
      "execution_count": 8,
      "outputs": [
        {
          "output_type": "stream",
          "name": "stdout",
          "text": [
            "[[0. 0. 0. ... 0. 0. 0.]\n",
            " [0. 0. 0. ... 0. 0. 0.]\n",
            " [0. 0. 0. ... 0. 0. 0.]\n",
            " ...\n",
            " [0. 0. 0. ... 0. 0. 0.]\n",
            " [0. 0. 0. ... 0. 0. 0.]\n",
            " [0. 0. 0. ... 0. 1. 0.]]\n"
          ]
        }
      ]
    },
    {
      "cell_type": "code",
      "source": [
        "def sigmoid(z):\n",
        "  return 1/ (1+np.exp(-z))"
      ],
      "metadata": {
        "id": "qSHr6VmO8QKg"
      },
      "execution_count": 9,
      "outputs": []
    },
    {
      "cell_type": "code",
      "source": [
        "def accuracy(label, preds):\n",
        "  truthtable = (label == preds).astype(int)\n",
        "  truthlist = truthtable.tolist()\n",
        "  accuracy = (truthlist.count([1]))*(100/(np.shape(preds)[0]))\n",
        "  print(\"Accuracy is\", accuracy , \"%\" )\n",
        "  return accuracy"
      ],
      "metadata": {
        "id": "c7TN2q730o30"
      },
      "execution_count": 24,
      "outputs": []
    },
    {
      "cell_type": "code",
      "source": [
        "def train(x, y, alpha, iterations):\n",
        "\n",
        "#initialise thetas\n",
        "  w1 = np.random.random([x.shape[1], 100]) - 0.5\n",
        "  w2 = np.random.random([100, len(uniquech)]) - 0.5\n",
        "  b1 = np.zeros([1, 100], dtype = int)\n",
        "  b2 = np.zeros([1, len(uniquech)], dtype = int)\n",
        "  for iter in range(iterations):\n",
        "\n",
        "#forward\n",
        "    z2 = np.dot(x, w1) + b1\n",
        "    a2 = sigmoid(z2)\n",
        "    z3 = np.dot(a2, w2) + b2\n",
        "    out = sigmoid(z3)\n",
        "    \n",
        "#errors\n",
        "    d3 = (out - y)\n",
        "    d2 = (np.dot(d3 ,w2.T)) * (a2*(1 - a2))\n",
        "\n",
        "#backward\n",
        "    pd_w2 = np.dot(a2.T, d3) / (x.shape[0])\n",
        "    pd_w1 = np.dot(x.T , d2) / (x.shape[0])\n",
        "    pd_b2 = np.sum(d3) / (x.shape[0])\n",
        "    pd_b1 = np.sum(d2) / (x.shape[0])\n",
        "    w1 = w1 - (alpha*pd_w1) \n",
        "    w2 = w2 - (alpha*pd_w2) \n",
        "    b1 = b1 - (alpha*pd_b1)\n",
        "    b2 = b2 - (alpha*pd_b2)\n",
        "\n",
        "#cost function\n",
        "    cost = (1/(x.shape[1])) * np.sum((-y*np.log(out)) - ((1-y) *np.log(1 - out)))\n",
        "    if( iter % (iterations/10) == 0):\n",
        "      print(\"Cost after\", iter , \"is :\", cost)\n",
        "    \n",
        "  return w1, w2, out"
      ],
      "metadata": {
        "id": "uobqmj9XBi2K"
      },
      "execution_count": 10,
      "outputs": []
    },
    {
      "cell_type": "code",
      "source": [
        "w1, w2, out = train(x=input, y=logisticY, alpha = 0.3, iterations= 1000)"
      ],
      "metadata": {
        "colab": {
          "base_uri": "https://localhost:8080/"
        },
        "id": "9PuUqdCoWgF7",
        "outputId": "f064dc74-82a5-4815-894b-1df3e8a526f4"
      },
      "execution_count": 11,
      "outputs": [
        {
          "output_type": "stream",
          "name": "stdout",
          "text": [
            "Cost after 0 is : 1977.9382522985204\n",
            "Cost after 100 is : 235.12783254323708\n",
            "Cost after 200 is : 196.34446508661938\n",
            "Cost after 300 is : 178.9441127827795\n",
            "Cost after 400 is : 168.23329506385545\n",
            "Cost after 500 is : 160.50142248036008\n",
            "Cost after 600 is : 154.42917608115707\n",
            "Cost after 700 is : 149.4069974379171\n",
            "Cost after 800 is : 145.1047926563711\n",
            "Cost after 900 is : 141.32596062917096\n"
          ]
        }
      ]
    },
    {
      "cell_type": "markdown",
      "source": [
        "**TEST**"
      ],
      "metadata": {
        "id": "3ot1j8LLH0MW"
      }
    },
    {
      "cell_type": "code",
      "source": [
        "df_test = pd.read_csv('/content/drive/MyDrive/logistic/emnist-letters-test.csv', header= None)\n",
        "test = df_test.to_numpy()"
      ],
      "metadata": {
        "id": "gvYdO60NH7dB"
      },
      "execution_count": 25,
      "outputs": []
    },
    {
      "cell_type": "code",
      "source": [
        "testX1 = test[:, 1:]/255\n",
        "testY = test[:, 0]"
      ],
      "metadata": {
        "id": "tRsFNj3_ke6k"
      },
      "execution_count": 17,
      "outputs": []
    },
    {
      "cell_type": "code",
      "source": [
        "x0t = np.ones([np.shape(testX1)[0], 1])\n",
        "testX = np.concatenate((x0t, testX1),axis = 1)"
      ],
      "metadata": {
        "id": "5VVs9UPZlf-V"
      },
      "execution_count": 18,
      "outputs": []
    },
    {
      "cell_type": "code",
      "source": [
        "a2 = sigmoid(np.dot(testX, w1))\n",
        "outtest = sigmoid(np.dot(a2, w2))"
      ],
      "metadata": {
        "id": "wqiQIWWklIYi"
      },
      "execution_count": 19,
      "outputs": []
    },
    {
      "cell_type": "code",
      "source": [
        "indext = np.argmax(outtest, axis=1)\n",
        "predt = np.zeros(outtest.shape)\n",
        "for i in range(np.shape(outtest)[0]):\n",
        "  predt[i][indext[i]] = 1"
      ],
      "metadata": {
        "id": "lu5yYoUql0hi"
      },
      "execution_count": 20,
      "outputs": []
    },
    {
      "cell_type": "code",
      "source": [
        "predictiont = np.zeros([np.size(testY) , 1], dtype = int)\n",
        "for i in range(np.shape(outtest)[0]):\n",
        "  for j in range(np.shape(outtest)[1]):\n",
        "    if predt[i][j] == 1:\n",
        "      predictiont[i][0] = j + 1"
      ],
      "metadata": {
        "id": "YO7DSSdP0kf2"
      },
      "execution_count": 21,
      "outputs": []
    },
    {
      "cell_type": "code",
      "source": [
        "accuracy(np.vstack(testY) , predictiont)"
      ],
      "metadata": {
        "colab": {
          "base_uri": "https://localhost:8080/"
        },
        "id": "NXZ8mrskDEXG",
        "outputId": "8007b9a6-a230-4442-9bda-6da26e54f13f"
      },
      "execution_count": 23,
      "outputs": [
        {
          "output_type": "stream",
          "name": "stdout",
          "text": [
            "Accuracy is 67.88513513513514 %\n"
          ]
        },
        {
          "output_type": "execute_result",
          "data": {
            "text/plain": [
              "67.88513513513514"
            ]
          },
          "metadata": {},
          "execution_count": 23
        }
      ]
    }
  ]
}