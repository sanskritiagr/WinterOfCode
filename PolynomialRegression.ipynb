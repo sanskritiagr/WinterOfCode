{
  "nbformat": 4,
  "nbformat_minor": 0,
  "metadata": {
    "colab": {
      "name": "PolynomialRegression.ipynb",
      "provenance": [],
      "collapsed_sections": []
    },
    "kernelspec": {
      "name": "python3",
      "display_name": "Python 3"
    },
    "language_info": {
      "name": "python"
    }
  },
  "cells": [
    {
      "cell_type": "code",
      "execution_count": 34,
      "metadata": {
        "colab": {
          "base_uri": "https://localhost:8080/"
        },
        "id": "WTdjl4ST_efQ",
        "outputId": "03ff04eb-9fbb-4c59-bcaf-3787162877ca"
      },
      "outputs": [
        {
          "output_type": "stream",
          "name": "stdout",
          "text": [
            "Drive already mounted at /content/drive; to attempt to forcibly remount, call drive.mount(\"/content/drive\", force_remount=True).\n"
          ]
        }
      ],
      "source": [
        "from google.colab import drive\n",
        "drive.mount('/content/drive')"
      ]
    },
    {
      "cell_type": "code",
      "source": [
        "%cd /content/drive/MyDrive/polynomial"
      ],
      "metadata": {
        "colab": {
          "base_uri": "https://localhost:8080/"
        },
        "id": "nHJM25IP_qrH",
        "outputId": "62fe848e-d267-448a-9a91-d7fa7c4b6a38"
      },
      "execution_count": 35,
      "outputs": [
        {
          "output_type": "stream",
          "name": "stdout",
          "text": [
            "/content/drive/MyDrive/polynomial\n"
          ]
        }
      ]
    },
    {
      "cell_type": "code",
      "source": [
        "!pwd"
      ],
      "metadata": {
        "colab": {
          "base_uri": "https://localhost:8080/"
        },
        "id": "H8wvCt-CACKq",
        "outputId": "90fa561d-e2af-4497-c1db-0764f349db99"
      },
      "execution_count": 36,
      "outputs": [
        {
          "output_type": "stream",
          "name": "stdout",
          "text": [
            "/content/drive/MyDrive/polynomial\n"
          ]
        }
      ]
    },
    {
      "cell_type": "code",
      "source": [
        "import numpy as np\n",
        "import pandas as pd\n",
        "import matplotlib.pyplot as plt"
      ],
      "metadata": {
        "id": "UqLQbUtFAY6J"
      },
      "execution_count": 37,
      "outputs": []
    },
    {
      "cell_type": "code",
      "source": [
        "train = pd.read_csv('/content/drive/MyDrive/polynomial/Polynomial_train.csv')\n",
        "train = train.iloc[0:50001, 1:]\n",
        "train = train.to_numpy()"
      ],
      "metadata": {
        "id": "JDW1EeUtAbdD"
      },
      "execution_count": 38,
      "outputs": []
    },
    {
      "cell_type": "code",
      "source": [
        "train.shape"
      ],
      "metadata": {
        "colab": {
          "base_uri": "https://localhost:8080/"
        },
        "id": "h4-go_ak1ALP",
        "outputId": "e5602467-4203-4014-94dc-57d29f89a4b8"
      },
      "execution_count": 39,
      "outputs": [
        {
          "output_type": "execute_result",
          "data": {
            "text/plain": [
              "(50000, 4)"
            ]
          },
          "metadata": {},
          "execution_count": 39
        }
      ]
    },
    {
      "cell_type": "code",
      "source": [
        "#featurescling\n",
        "min = np.amin(train, axis = 0)\n",
        "max = np.amax(train, axis = 0)\n",
        "\n",
        "for i in range(3):\n",
        "  train[:, i] = (train[:,i] - min[i]) / (max[i] - min[i])\n",
        "print(train)"
      ],
      "metadata": {
        "colab": {
          "base_uri": "https://localhost:8080/"
        },
        "id": "hw0FymY2ZAox",
        "outputId": "5719ed1b-09e3-41c0-cef0-1d0e5f3e3dbc"
      },
      "execution_count": 40,
      "outputs": [
        {
          "output_type": "stream",
          "name": "stdout",
          "text": [
            "[[ 2.31825498e-01  6.20152605e-03  2.10583504e-01  3.07972927e+02]\n",
            " [ 1.88042744e-01  2.82875591e-01  6.50156775e-02  1.36398375e+02]\n",
            " [ 1.28715899e-01  3.70153800e-01  4.09480954e-01 -3.10724813e+02]\n",
            " ...\n",
            " [ 3.61922568e-01  3.24329859e-01  4.76380343e-01  6.63873655e+02]\n",
            " [ 2.95305056e-01  6.57666157e-01  2.61048494e-01 -4.21004005e+02]\n",
            " [ 2.31383690e-01  8.55076395e-01  3.40440602e-01 -6.99718682e+02]]\n"
          ]
        }
      ]
    },
    {
      "cell_type": "code",
      "source": [
        "# from sklearn import preprocessing\n",
        "# minmax = preprocessing.MinMaxScaler(feature_range=(0, 1))\n",
        "# train = minmax.fit_transform(train)\n",
        "# train"
      ],
      "metadata": {
        "id": "0rj_I8UQpLFE"
      },
      "execution_count": 41,
      "outputs": []
    },
    {
      "cell_type": "code",
      "source": [
        "final = np.vstack(train[:,3])\n",
        "\n",
        "x0 = np.ones([np.shape(train)[0], 1]).reshape([np.shape(train)[0],1])\n",
        "x1 = train[:, 0].reshape([np.shape(train)[0],1])\n",
        "x2 = train[:, 1].reshape([np.shape(train)[0],1])\n",
        "x3 = train[:, 2].reshape([np.shape(train)[0],1])\n",
        "x4 = np.square(x1)\n",
        "x5 = np.square(x2)\n",
        "x6 = np.square(x3)\n",
        "x7 = np.multiply(x1,x2)\n",
        "x8 = np.multiply(x1,x3)\n",
        "x9 = np.multiply(x2,x3)\n",
        "x10 = x1*x1*x1\n",
        "x11 = x2*x2*x2\n",
        "x12 = x3*x3*x3\n",
        "trainX = np.concatenate((x1,x2,x3,x4,x5,x6,x7,x8,x9,x10,x11,x12), axis =1)\n",
        "\n",
        "trainX = np.concatenate((x0, trainX), axis = 1)\n",
        "\n",
        "np.shape(trainX)"
      ],
      "metadata": {
        "colab": {
          "base_uri": "https://localhost:8080/"
        },
        "id": "7Hj7-i6cAbn4",
        "outputId": "cbedc68d-4718-4738-80c2-0715231c7eb9"
      },
      "execution_count": 42,
      "outputs": [
        {
          "output_type": "execute_result",
          "data": {
            "text/plain": [
              "(50000, 13)"
            ]
          },
          "metadata": {},
          "execution_count": 42
        }
      ]
    },
    {
      "cell_type": "code",
      "source": [
        "def normeq(X, Y):\n",
        "  inv = np.linalg.inv(np.dot(X.T,X))\n",
        "  theta = np.dot(np.dot(inv, X.T ), Y )\n",
        "  pred = np.dot(X, theta)\n",
        "  return pred"
      ],
      "metadata": {
        "id": "Tq6pwdYRFp4h"
      },
      "execution_count": 43,
      "outputs": []
    },
    {
      "cell_type": "code",
      "source": [
        "def grad(X, Y, learning_rate, noofiter):\n",
        "  row,column = np.shape(X)\n",
        "  theta = np.zeros([column,1], dtype = int)\n",
        "  costvalues = []\n",
        "\n",
        "  for t in range(noofiter):\n",
        "    y_pred = np.dot(X, theta)\n",
        "    cost = (1/(2*row))*np.sum(np.square(y_pred - Y))\n",
        "    costdif = (1/(row))*np.dot(X.T, y_pred - Y)\n",
        "    theta = theta - learning_rate*costdif\n",
        "    costvalues.append(cost)\n",
        "\n",
        "    if( t % (noofiter/10) == 0):\n",
        "      print(\"Cost after\", t ,\"is :\", cost)\n",
        "  #print(y_pred)\n",
        "\n",
        "  return y_pred,costvalues, theta"
      ],
      "metadata": {
        "id": "XaQ-H7vzGI7q"
      },
      "execution_count": 44,
      "outputs": []
    },
    {
      "cell_type": "code",
      "source": [
        "noofiter = 90000\n",
        "y_pred, costvalues, theta= grad(X = trainX, Y= final, learning_rate=0.999, noofiter=noofiter )"
      ],
      "metadata": {
        "colab": {
          "base_uri": "https://localhost:8080/"
        },
        "id": "dBlRgfMTqAhp",
        "outputId": "3706f74a-8e73-42d5-850f-86f1817b61d5"
      },
      "execution_count": 45,
      "outputs": [
        {
          "output_type": "stream",
          "name": "stdout",
          "text": [
            "Cost after 0 is : 727060.5592130942\n",
            "Cost after 9000 is : 467.3122743426775\n",
            "Cost after 18000 is : 143.91011329486778\n",
            "Cost after 27000 is : 93.9157251530821\n",
            "Cost after 36000 is : 76.97446030569455\n",
            "Cost after 45000 is : 69.95548056336904\n",
            "Cost after 54000 is : 66.21136555089325\n",
            "Cost after 63000 is : 63.6273510826634\n",
            "Cost after 72000 is : 61.51902616122635\n",
            "Cost after 81000 is : 59.65915464420425\n"
          ]
        }
      ]
    },
    {
      "cell_type": "code",
      "source": [
        "plt.plot(np.arange(0, noofiter), costvalues)\n",
        "plt.show()"
      ],
      "metadata": {
        "colab": {
          "base_uri": "https://localhost:8080/",
          "height": 265
        },
        "id": "RY3E6qPBmmh5",
        "outputId": "5ccaeb82-1abd-41b4-a266-98064263bd39"
      },
      "execution_count": 46,
      "outputs": [
        {
          "output_type": "display_data",
          "data": {
            "text/plain": [
              "<Figure size 432x288 with 1 Axes>"
            ],
            "image/png": "[encoded data removed]"
          },
          "metadata": {
            "needs_background": "light"
          }
        }
      ]
    },
    {
      "cell_type": "code",
      "source": [
        "testdf = pd.read_csv('/content/drive/MyDrive/polynomial/Polynomial_test.csv')\n",
        "testdf"
      ],
      "metadata": {
        "colab": {
          "base_uri": "https://localhost:8080/",
          "height": 424
        },
        "id": "tyW410LVtBJs",
        "outputId": "02c7eabc-f2ad-4512-a85b-5e46fbf9f009"
      },
      "execution_count": 47,
      "outputs": [
        {
          "output_type": "execute_result",
          "data": {
            "text/plain": [
              "      Unnamed: 0         X         Y         Z        label\n",
              "0              0  9.322078  0.413096  5.984731  -657.669309\n",
              "1              1  2.811964  6.142752  6.419237  -545.362524\n",
              "2              2 -2.669784  7.775091 -6.931907   -75.044187\n",
              "3              3 -6.992156 -9.205548  0.852580 -2403.124902\n",
              "4              4  1.574294 -2.213266  6.029188     8.595325\n",
              "...          ...       ...       ...       ...          ...\n",
              "9995        9995 -0.992449 -7.853677  7.748156  -635.006038\n",
              "9996        9996  8.574451  6.271919 -5.734962 -1275.855209\n",
              "9997        9997  6.640997  6.864877  4.511685 -1771.640694\n",
              "9998        9998 -6.262414  1.323203 -3.917748   -22.746921\n",
              "9999        9999  8.289792 -0.371541  2.099039   -64.853446\n",
              "\n",
              "[10000 rows x 5 columns]"
            ],
            "text/html": [
              "\n",
              "  <div id=\"df-9ef06b72-1097-4631-81de-f03ff689272c\">\n",
              "    <div class=\"colab-df-container\">\n",
              "      <div>\n",
              "<style scoped>\n",
              "    .dataframe tbody tr th:only-of-type {\n",
              "        vertical-align: middle;\n",
              "    }\n",
              "\n",
              "    .dataframe tbody tr th {\n",
              "        vertical-align: top;\n",
              "    }\n",
              "\n",
              "    .dataframe thead th {\n",
              "        text-align: right;\n",
              "    }\n",
              "</style>\n",
              "<table border=\"1\" class=\"dataframe\">\n",
              "  <thead>\n",
              "    <tr style=\"text-align: right;\">\n",
              "      <th></th>\n",
              "      <th>Unnamed: 0</th>\n",
              "      <th>X</th>\n",
              "      <th>Y</th>\n",
              "      <th>Z</th>\n",
              "      <th>label</th>\n",
              "    </tr>\n",
              "  </thead>\n",
              "  <tbody>\n",
              "    <tr>\n",
              "      <th>0</th>\n",
              "      <td>0</td>\n",
              "      <td>9.322078</td>\n",
              "      <td>0.413096</td>\n",
              "      <td>5.984731</td>\n",
              "      <td>-657.669309</td>\n",
              "    </tr>\n",
              "    <tr>\n",
              "      <th>1</th>\n",
              "      <td>1</td>\n",
              "      <td>2.811964</td>\n",
              "      <td>6.142752</td>\n",
              "      <td>6.419237</td>\n",
              "      <td>-545.362524</td>\n",
              "    </tr>\n",
              "    <tr>\n",
              "      <th>2</th>\n",
              "      <td>2</td>\n",
              "      <td>-2.669784</td>\n",
              "      <td>7.775091</td>\n",
              "      <td>-6.931907</td>\n",
              "      <td>-75.044187</td>\n",
              "    </tr>\n",
              "    <tr>\n",
              "      <th>3</th>\n",
              "      <td>3</td>\n",
              "      <td>-6.992156</td>\n",
              "      <td>-9.205548</td>\n",
              "      <td>0.852580</td>\n",
              "      <td>-2403.124902</td>\n",
              "    </tr>\n",
              "    <tr>\n",
              "      <th>4</th>\n",
              "      <td>4</td>\n",
              "      <td>1.574294</td>\n",
              "      <td>-2.213266</td>\n",
              "      <td>6.029188</td>\n",
              "      <td>8.595325</td>\n",
              "    </tr>\n",
              "    <tr>\n",
              "      <th>...</th>\n",
              "      <td>...</td>\n",
              "      <td>...</td>\n",
              "      <td>...</td>\n",
              "      <td>...</td>\n",
              "      <td>...</td>\n",
              "    </tr>\n",
              "    <tr>\n",
              "      <th>9995</th>\n",
              "      <td>9995</td>\n",
              "      <td>-0.992449</td>\n",
              "      <td>-7.853677</td>\n",
              "      <td>7.748156</td>\n",
              "      <td>-635.006038</td>\n",
              "    </tr>\n",
              "    <tr>\n",
              "      <th>9996</th>\n",
              "      <td>9996</td>\n",
              "      <td>8.574451</td>\n",
              "      <td>6.271919</td>\n",
              "      <td>-5.734962</td>\n",
              "      <td>-1275.855209</td>\n",
              "    </tr>\n",
              "    <tr>\n",
              "      <th>9997</th>\n",
              "      <td>9997</td>\n",
              "      <td>6.640997</td>\n",
              "      <td>6.864877</td>\n",
              "      <td>4.511685</td>\n",
              "      <td>-1771.640694</td>\n",
              "    </tr>\n",
              "    <tr>\n",
              "      <th>9998</th>\n",
              "      <td>9998</td>\n",
              "      <td>-6.262414</td>\n",
              "      <td>1.323203</td>\n",
              "      <td>-3.917748</td>\n",
              "      <td>-22.746921</td>\n",
              "    </tr>\n",
              "    <tr>\n",
              "      <th>9999</th>\n",
              "      <td>9999</td>\n",
              "      <td>8.289792</td>\n",
              "      <td>-0.371541</td>\n",
              "      <td>2.099039</td>\n",
              "      <td>-64.853446</td>\n",
              "    </tr>\n",
              "  </tbody>\n",
              "</table>\n",
              "<p>10000 rows × 5 columns</p>\n",
              "</div>\n",
              "      <button class=\"colab-df-convert\" onclick=\"convertToInteractive('df-9ef06b72-1097-4631-81de-f03ff689272c')\"\n",
              "              title=\"Convert this dataframe to an interactive table.\"\n",
              "              style=\"display:none;\">\n",
              "        \n",
              "  <svg xmlns=\"http://www.w3.org/2000/svg\" height=\"24px\"viewBox=\"0 0 24 24\"\n",
              "       width=\"24px\">\n",
              "    <path d=\"M0 0h24v24H0V0z\" fill=\"none\"/>\n",
              "    <path d=\"M18.56 5.44l.94 2.06.94-2.06 2.06-.94-2.06-.94-.94-2.06-.94 2.06-2.06.94zm-11 1L8.5 8.5l.94-2.06 2.06-.94-2.06-.94L8.5 2.5l-.94 2.06-2.06.94zm10 10l.94 2.06.94-2.06 2.06-.94-2.06-.94-.94-2.06-.94 2.06-2.06.94z\"/><path d=\"M17.41 7.96l-1.37-1.37c-.4-.4-.92-.59-1.43-.59-.52 0-1.04.2-1.43.59L10.3 9.45l-7.72 7.72c-.78.78-.78 2.05 0 2.83L4 21.41c.39.39.9.59 1.41.59.51 0 1.02-.2 1.41-.59l7.78-7.78 2.81-2.81c.8-.78.8-2.07 0-2.86zM5.41 20L4 18.59l7.72-7.72 1.47 1.35L5.41 20z\"/>\n",
              "  </svg>\n",
              "      </button>\n",
              "      \n",
              "  <style>\n",
              "    .colab-df-container {\n",
              "      display:flex;\n",
              "      flex-wrap:wrap;\n",
              "      gap: 12px;\n",
              "    }\n",
              "\n",
              "    .colab-df-convert {\n",
              "      background-color: #E8F0FE;\n",
              "      border: none;\n",
              "      border-radius: 50%;\n",
              "      cursor: pointer;\n",
              "      display: none;\n",
              "      fill: #1967D2;\n",
              "      height: 32px;\n",
              "      padding: 0 0 0 0;\n",
              "      width: 32px;\n",
              "    }\n",
              "\n",
              "    .colab-df-convert:hover {\n",
              "      background-color: #E2EBFA;\n",
              "      box-shadow: 0px 1px 2px rgba(60, 64, 67, 0.3), 0px 1px 3px 1px rgba(60, 64, 67, 0.15);\n",
              "      fill: #174EA6;\n",
              "    }\n",
              "\n",
              "    [theme=dark] .colab-df-convert {\n",
              "      background-color: #3B4455;\n",
              "      fill: #D2E3FC;\n",
              "    }\n",
              "\n",
              "    [theme=dark] .colab-df-convert:hover {\n",
              "      background-color: #434B5C;\n",
              "      box-shadow: 0px 1px 3px 1px rgba(0, 0, 0, 0.15);\n",
              "      filter: drop-shadow(0px 1px 2px rgba(0, 0, 0, 0.3));\n",
              "      fill: #FFFFFF;\n",
              "    }\n",
              "  </style>\n",
              "\n",
              "      <script>\n",
              "        const buttonEl =\n",
              "          document.querySelector('#df-9ef06b72-1097-4631-81de-f03ff689272c button.colab-df-convert');\n",
              "        buttonEl.style.display =\n",
              "          google.colab.kernel.accessAllowed ? 'block' : 'none';\n",
              "\n",
              "        async function convertToInteractive(key) {\n",
              "          const element = document.querySelector('#df-9ef06b72-1097-4631-81de-f03ff689272c');\n",
              "          const dataTable =\n",
              "            await google.colab.kernel.invokeFunction('convertToInteractive',\n",
              "                                                     [key], {});\n",
              "          if (!dataTable) return;\n",
              "\n",
              "          const docLinkHtml = 'Like what you see? Visit the ' +\n",
              "            '<a target=\"_blank\" href=https://colab.research.google.com/notebooks/data_table.ipynb>data table notebook</a>'\n",
              "            + ' to learn more about interactive tables.';\n",
              "          element.innerHTML = '';\n",
              "          dataTable['output_type'] = 'display_data';\n",
              "          await google.colab.output.renderOutput(dataTable, element);\n",
              "          const docLink = document.createElement('div');\n",
              "          docLink.innerHTML = docLinkHtml;\n",
              "          element.appendChild(docLink);\n",
              "        }\n",
              "      </script>\n",
              "    </div>\n",
              "  </div>\n",
              "  "
            ]
          },
          "metadata": {},
          "execution_count": 47
        }
      ]
    },
    {
      "cell_type": "code",
      "source": [
        "testdf = testdf.iloc[:, 1:]\n",
        "test = testdf.to_numpy()"
      ],
      "metadata": {
        "id": "paTl6zoWw6SV"
      },
      "execution_count": 48,
      "outputs": []
    },
    {
      "cell_type": "code",
      "source": [
        "#featurescling\n",
        "for i in range(3):\n",
        "  test[:, i] = (test[:,i] - min[i]) / (max[i] - min[i])\n",
        "print(test)"
      ],
      "metadata": {
        "colab": {
          "base_uri": "https://localhost:8080/"
        },
        "id": "ezTT5Mc2mgBd",
        "outputId": "cbf41181-1daa-4dee-ea28-71958f2b4f58"
      },
      "execution_count": 49,
      "outputs": [
        {
          "output_type": "stream",
          "name": "stdout",
          "text": [
            "[[ 4.20846485e-01  4.72097639e-01  7.99842723e-01 -6.57669309e+02]\n",
            " [ 2.79051515e-01  7.31778181e-01  8.21502668e-01 -5.45362524e+02]\n",
            " [ 1.59655091e-01  8.05759362e-01  1.55953990e-01 -7.50441866e+01]\n",
            " ...\n",
            " [ 3.62450606e-01  7.64506478e-01  7.26412060e-01 -1.77164069e+03]\n",
            " [ 8.14050223e-02  5.13345672e-01  3.06208480e-01 -2.27469212e+01]\n",
            " [ 3.98362554e-01  4.36536172e-01  6.06142711e-01 -6.48534457e+01]]\n"
          ]
        }
      ]
    },
    {
      "cell_type": "code",
      "source": [
        "testx0 = np.ones([np.shape(test)[0], 1]).reshape([np.shape(test)[0], 1])\n",
        "testx1 = test[:, 0].reshape([np.shape(test)[0], 1])\n",
        "testx2 = test[:, 1].reshape([np.shape(test)[0], 1])\n",
        "testx3 = test[:, 2].reshape([np.shape(test)[0], 1])\n",
        "testx4 = np.square(testx1)\n",
        "testx5 = np.square(testx2)\n",
        "testx6 = np.square(testx3)\n",
        "testx7 = np.multiply(testx1,testx2)\n",
        "testx8 = np.multiply(testx1,testx3)\n",
        "testx9 = np.multiply(testx2,testx3)\n",
        "testx10 = testx1**3\n",
        "testx11 = testx2**3\n",
        "testx12 = testx3**3\n",
        "testX = np.concatenate((testx0,testx1,testx2,testx3,testx4,testx5,testx6,testx7,testx8,testx9,testx10,testx11,testx12), axis =1)\n",
        "\n",
        "testfinal = np.vstack(test[:,3])\n",
        "\n",
        "testX.shape"
      ],
      "metadata": {
        "id": "Ii69s5mmkRU2",
        "colab": {
          "base_uri": "https://localhost:8080/"
        },
        "outputId": "b22bf7b0-c4cf-4974-9cb9-a83507f98cc6"
      },
      "execution_count": 50,
      "outputs": [
        {
          "output_type": "execute_result",
          "data": {
            "text/plain": [
              "(10000, 13)"
            ]
          },
          "metadata": {},
          "execution_count": 50
        }
      ]
    },
    {
      "cell_type": "code",
      "source": [
        "testfinalpred = np.dot(testX, theta)"
      ],
      "metadata": {
        "id": "yFDpaW-ImFIH"
      },
      "execution_count": 51,
      "outputs": []
    },
    {
      "cell_type": "code",
      "source": [
        "rmserror = np.sqrt(np.sum(np.square(testfinalpred - testfinal))/(testX.shape[0]))\n",
        "rmserror"
      ],
      "metadata": {
        "colab": {
          "base_uri": "https://localhost:8080/"
        },
        "id": "4MFX7qsHB_0K",
        "outputId": "844858d7-ef15-4ebb-fbfc-a36909a204c8"
      },
      "execution_count": 54,
      "outputs": [
        {
          "output_type": "execute_result",
          "data": {
            "text/plain": [
              "2.2988830355111163"
            ]
          },
          "metadata": {},
          "execution_count": 54
        }
      ]
    }
  ]
}
