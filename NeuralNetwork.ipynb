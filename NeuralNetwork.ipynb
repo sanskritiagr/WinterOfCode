{
  "cells": [
    {
      "cell_type": "code",
      "execution_count": null,
      "metadata": {
        "colab": {
          "base_uri": "https://localhost:8080/"
        },
        "id": "nmFCWnWsb9or",
        "outputId": "f5a8d18a-49e8-49e9-bb7b-7e5ea6c793ea"
      },
      "outputs": [
        {
          "name": "stdout",
          "output_type": "stream",
          "text": [
            "Drive already mounted at /content/drive; to attempt to forcibly remount, call drive.mount(\"/content/drive\", force_remount=True).\n"
          ]
        }
      ],
      "source": [
        "from google.colab import drive\n",
        "drive.mount('/content/drive')"
      ]
    },
    {
      "cell_type": "code",
      "execution_count": null,
      "metadata": {
        "colab": {
          "base_uri": "https://localhost:8080/"
        },
        "id": "2oOjO8TM43LS",
        "outputId": "58e19332-0f5e-4572-eb01-91d0f4a85191"
      },
      "outputs": [
        {
          "name": "stdout",
          "output_type": "stream",
          "text": [
            "/content/drive/MyDrive/logistic\n"
          ]
        }
      ],
      "source": [
        "%cd /content/drive/MyDrive/logistic"
      ]
    },
    {
      "cell_type": "code",
      "execution_count": null,
      "metadata": {
        "colab": {
          "base_uri": "https://localhost:8080/"
        },
        "id": "wY0X6wlj4q94",
        "outputId": "f911ef2e-b5aa-4e8c-ad07-ce9f86b77a80"
      },
      "outputs": [
        {
          "name": "stdout",
          "output_type": "stream",
          "text": [
            "/content/drive/MyDrive/logistic\n"
          ]
        }
      ],
      "source": [
        "!pwd"
      ]
    },
    {
      "cell_type": "code",
      "execution_count": null,
      "metadata": {
        "id": "upxSv-4Y4yvS"
      },
      "outputs": [],
      "source": [
        "import numpy as np\n",
        "import pandas as pd\n",
        "import matplotlib.pyplot as mpl"
      ]
    },
    {
      "cell_type": "code",
      "execution_count": null,
      "metadata": {
        "id": "eIOEkFxC49SP"
      },
      "outputs": [],
      "source": [
        "df_train = pd.read_csv('/content/drive/MyDrive/logistic/emnist-letters-train.csv', header= None)\n",
        "train = df_train.to_numpy()"
      ]
    },
    {
      "cell_type": "code",
      "execution_count": null,
      "metadata": {
        "id": "YzBdXRM_5KNi"
      },
      "outputs": [],
      "source": [
        "input1 = train[0:62000, 1:]/255 #Scaling values between 0 and 1\n",
        "ylabels = train[0:62000, 0]"
      ]
    },
    {
      "cell_type": "code",
      "execution_count": null,
      "metadata": {
        "colab": {
          "base_uri": "https://localhost:8080/"
        },
        "id": "JdfmU5bM8na8",
        "outputId": "4b1a7d62-b31d-4a74-b878-fd82f758380c"
      },
      "outputs": [
        {
          "name": "stdout",
          "output_type": "stream",
          "text": [
            "(62000, 785)\n"
          ]
        }
      ],
      "source": [
        "x0 = np.ones([np.shape(input1)[0], 1])\n",
        "input = np.concatenate((x0, input1),axis = 1)\n",
        "print(np.shape(input))"
      ]
    },
    {
      "cell_type": "code",
      "execution_count": null,
      "metadata": {
        "colab": {
          "base_uri": "https://localhost:8080/"
        },
        "id": "pqd3WO2R68Tp",
        "outputId": "594fe584-6a46-40a8-ea23-33c6b260cdfc"
      },
      "outputs": [
        {
          "name": "stdout",
          "output_type": "stream",
          "text": [
            "[[0. 0. 0. ... 0. 0. 0.]\n",
            " [0. 0. 0. ... 0. 0. 0.]\n",
            " [0. 0. 0. ... 0. 0. 0.]\n",
            " ...\n",
            " [0. 0. 0. ... 0. 0. 0.]\n",
            " [0. 0. 0. ... 0. 0. 0.]\n",
            " [0. 0. 0. ... 0. 1. 0.]]\n"
          ]
        }
      ],
      "source": [
        "uniquech = set(ylabels)\n",
        "logisticY = np.zeros([np.size(ylabels), len(uniquech)])\n",
        "for i in range(np.size(ylabels)):\n",
        "  for j in range(1, len(uniquech)+1):\n",
        "    if ylabels[i] == j:\n",
        "      logisticY[i,j-1] = 1\n",
        "print(logisticY)"
      ]
    },
    {
      "cell_type": "code",
      "execution_count": null,
      "metadata": {
        "id": "qSHr6VmO8QKg"
      },
      "outputs": [],
      "source": [
        "def sigmoid(z):\n",
        "  return 1/ (1+np.exp(-z))"
      ]
    },
    {
      "cell_type": "code",
      "execution_count": null,
      "metadata": {
        "id": "c7TN2q730o30"
      },
      "outputs": [],
      "source": [
        "def accuracy(label, preds):\n",
        "  truthtable = (label == preds).astype(int)\n",
        "  truthlist = truthtable.tolist()\n",
        "  accuracy = (truthlist.count([1]))*(100/(np.shape(preds)[0]))\n",
        "  print(\"Accuracy is\", accuracy , \"%\" )\n",
        "  return accuracy"
      ]
    },
    {
      "cell_type": "code",
      "execution_count": null,
      "metadata": {
        "id": "uobqmj9XBi2K"
      },
      "outputs": [],
      "source": [
        "def train(x, y, alpha, iterations):\n",
        "\n",
        "#initialise thetas\n",
        "  w1 = np.random.random([x.shape[1], 100]) - 0.5\n",
        "  w2 = np.random.random([100, len(uniquech)]) - 0.5\n",
        "  b1 = np.zeros([1, 100], dtype = int)\n",
        "  b2 = np.zeros([1, len(uniquech)], dtype = int)\n",
        "  for iter in range(iterations):\n",
        "\n",
        "#forward\n",
        "    z2 = np.dot(x, w1) + b1\n",
        "    a2 = sigmoid(z2)\n",
        "    z3 = np.dot(a2, w2) + b2\n",
        "    out = sigmoid(z3)\n",
        "    \n",
        "#errors\n",
        "    d3 = (out - y)\n",
        "    d2 = (np.dot(d3 ,w2.T)) * (a2*(1 - a2))\n",
        "\n",
        "#backward\n",
        "    pd_w2 = np.dot(a2.T, d3) / (x.shape[0])\n",
        "    pd_w1 = np.dot(x.T , d2) / (x.shape[0])\n",
        "    pd_b2 = np.sum(d3) / (x.shape[0])\n",
        "    pd_b1 = np.sum(d2) / (x.shape[0])\n",
        "    w1 = w1 - (alpha*pd_w1) \n",
        "    w2 = w2 - (alpha*pd_w2) \n",
        "    b1 = b1 - (alpha*pd_b1)\n",
        "    b2 = b2 - (alpha*pd_b2)\n",
        "\n",
        "#cost function\n",
        "    cost = (1/(x.shape[1])) * np.sum((-y*np.log(out)) - ((1-y) *np.log(1 - out)))\n",
        "    if( iter % (iterations/10) == 0):\n",
        "      print(\"Cost after\", iter , \"is :\", cost)\n",
        "    \n",
        "  return w1, w2, out"
      ]
    },
    {
      "cell_type": "code",
      "execution_count": null,
      "metadata": {
        "colab": {
          "background_save": true,
          "base_uri": "https://localhost:8080/"
        },
        "id": "9PuUqdCoWgF7",
        "outputId": "4ace8144-aa41-449b-b2b7-2eb0f8582224"
      },
      "outputs": [
        {
          "name": "stdout",
          "output_type": "stream",
          "text": [
            "Cost after 0 is : 2353.077878999959\n",
            "Cost after 500 is : 161.26178968088868\n",
            "Cost after 1000 is : 138.15532578165644\n",
            "Cost after 1500 is : 124.51452118712747\n",
            "Cost after 2000 is : 114.67497877606499\n",
            "Cost after 2500 is : 107.02689907425396\n",
            "Cost after 3000 is : 100.85037988037361\n",
            "Cost after 3500 is : 95.75284229914207\n",
            "Cost after 4000 is : 91.47794183619253\n",
            "Cost after 4500 is : 87.84439681706836\n"
          ]
        }
      ],
      "source": [
        "w1, w2, out = train(x=input, y=logisticY, alpha = 0.3, iterations= 5000)"
      ]
    },
    {
      "cell_type": "markdown",
      "metadata": {
        "id": "3ot1j8LLH0MW"
      },
      "source": [
        "**TEST**"
      ]
    },
    {
      "cell_type": "code",
      "execution_count": null,
      "metadata": {
        "colab": {
          "background_save": true
        },
        "id": "gvYdO60NH7dB"
      },
      "outputs": [],
      "source": [
        "df_test = pd.read_csv('/content/drive/MyDrive/logistic/emnist-letters-test.csv', header= None)\n",
        "test = df_test.to_numpy()"
      ]
    },
    {
      "cell_type": "code",
      "execution_count": null,
      "metadata": {
        "colab": {
          "background_save": true
        },
        "id": "tRsFNj3_ke6k"
      },
      "outputs": [],
      "source": [
        "testX1 = test[:, 1:]/255\n",
        "testY = test[:, 0]"
      ]
    },
    {
      "cell_type": "code",
      "execution_count": null,
      "metadata": {
        "colab": {
          "background_save": true
        },
        "id": "5VVs9UPZlf-V"
      },
      "outputs": [],
      "source": [
        "x0t = np.ones([np.shape(testX1)[0], 1])\n",
        "testX = np.concatenate((x0t, testX1),axis = 1)"
      ]
    },
    {
      "cell_type": "code",
      "execution_count": null,
      "metadata": {
        "colab": {
          "background_save": true
        },
        "id": "wqiQIWWklIYi"
      },
      "outputs": [],
      "source": [
        "a2 = sigmoid(np.dot(testX, w1))\n",
        "outtest = sigmoid(np.dot(a2, w2))"
      ]
    },
    {
      "cell_type": "code",
      "execution_count": null,
      "metadata": {
        "colab": {
          "background_save": true
        },
        "id": "lu5yYoUql0hi"
      },
      "outputs": [],
      "source": [
        "indext = np.argmax(outtest, axis=1)\n",
        "predt = np.zeros(outtest.shape)\n",
        "for i in range(np.shape(outtest)[0]):\n",
        "  predt[i][indext[i]] = 1"
      ]
    },
    {
      "cell_type": "code",
      "execution_count": null,
      "metadata": {
        "colab": {
          "background_save": true
        },
        "id": "YO7DSSdP0kf2"
      },
      "outputs": [],
      "source": [
        "predictiont = np.zeros([np.size(testY) , 1], dtype = int)\n",
        "for i in range(np.shape(outtest)[0]):\n",
        "  for j in range(np.shape(outtest)[1]):\n",
        "    if predt[i][j] == 1:\n",
        "      predictiont[i][0] = j + 1"
      ]
    },
    {
      "cell_type": "code",
      "execution_count": null,
      "metadata": {
        "colab": {
          "background_save": true
        },
        "id": "NXZ8mrskDEXG",
        "outputId": "49140d13-e34a-4323-9e2f-f0fa6c3126dc"
      },
      "outputs": [
        {
          "name": "stdout",
          "output_type": "stream",
          "text": [
            "Accuracy is 77.72297297297298 %\n"
          ]
        },
        {
          "data": {
            "text/plain": [
              "77.72297297297298"
            ]
          },
          "execution_count": null,
          "metadata": {},
          "output_type": "execute_result"
        }
      ],
      "source": [
        "accuracy(np.vstack(testY) , predictiont)"
      ]
    }
  ],
  "metadata": {
    "colab": {
      "collapsed_sections": [],
      "name": "Neural Network.ipynb",
      "provenance": []
    },
    "kernelspec": {
      "display_name": "Python 3",
      "name": "python3"
    },
    "language_info": {
      "name": "python"
    }
  },
  "nbformat": 4,
  "nbformat_minor": 0
}
