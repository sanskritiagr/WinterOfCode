{
  "nbformat": 4,
  "nbformat_minor": 0,
  "metadata": {
    "colab": {
      "name": "LinearRegression.ipynb",
      "provenance": [],
      "collapsed_sections": []
    },
    "kernelspec": {
      "name": "python3",
      "display_name": "Python 3"
    },
    "language_info": {
      "name": "python"
    }
  },
  "cells": [
    {
      "cell_type": "code",
      "execution_count": null,
      "metadata": {
        "colab": {
          "base_uri": "https://localhost:8080/"
        },
        "id": "wEF0Apc319o1",
        "outputId": "57e6c198-97d3-499b-d825-3c49279949f5"
      },
      "outputs": [
        {
          "output_type": "stream",
          "name": "stdout",
          "text": [
            "Drive already mounted at /content/drive; to attempt to forcibly remount, call drive.mount(\"/content/drive\", force_remount=True).\n"
          ]
        }
      ],
      "source": [
        "from google.colab import drive\n",
        "drive.mount('/content/drive')"
      ]
    },
    {
      "cell_type": "code",
      "source": [
        "%cd /content/drive/MyDrive/linear"
      ],
      "metadata": {
        "colab": {
          "base_uri": "https://localhost:8080/"
        },
        "id": "-uJZWN7X2-b8",
        "outputId": "5daa6207-88ed-424a-99f3-0b580dd84668"
      },
      "execution_count": null,
      "outputs": [
        {
          "output_type": "stream",
          "name": "stdout",
          "text": [
            "/content/drive/MyDrive/linear\n"
          ]
        }
      ]
    },
    {
      "cell_type": "code",
      "source": [
        "!pwd"
      ],
      "metadata": {
        "colab": {
          "base_uri": "https://localhost:8080/"
        },
        "id": "_V_ketFM3IwR",
        "outputId": "fa47d0dd-a1bd-45c6-8e56-32b1a8a76455"
      },
      "execution_count": null,
      "outputs": [
        {
          "output_type": "stream",
          "name": "stdout",
          "text": [
            "/content/drive/MyDrive/linear\n"
          ]
        }
      ]
    },
    {
      "cell_type": "code",
      "source": [
        "%cp /content/Linear_test.csv /content/drive/MyDrive/linear\n",
        "%cp /content/Linear_train.csv /content/drive/MyDrive/linear"
      ],
      "metadata": {
        "id": "48yQfCiP3g6m",
        "colab": {
          "base_uri": "https://localhost:8080/"
        },
        "outputId": "6c7100ab-846c-4921-d2ec-992e92dffcd7"
      },
      "execution_count": null,
      "outputs": [
        {
          "output_type": "stream",
          "name": "stdout",
          "text": [
            "cp: cannot stat '/content/Linear_test.csv': No such file or directory\n",
            "cp: cannot stat '/content/Linear_train.csv': No such file or directory\n"
          ]
        }
      ]
    },
    {
      "cell_type": "code",
      "source": [
        "import numpy as np\n",
        "import pandas as pd\n",
        "import matplotlib.pyplot as mpl"
      ],
      "metadata": {
        "id": "-48i1op17y9B"
      },
      "execution_count": null,
      "outputs": []
    },
    {
      "cell_type": "code",
      "source": [
        "train = pd.read_csv('/content/drive/MyDrive/linear/Linear_train.csv')\n",
        "train = train.loc[0:, :]\n",
        "train"
      ],
      "metadata": {
        "id": "ATixxT1X4Skb",
        "colab": {
          "base_uri": "https://localhost:8080/",
          "height": 504
        },
        "outputId": "7267bdbd-7a56-4893-a3a8-ad30eac85495"
      },
      "execution_count": null,
      "outputs": [
        {
          "output_type": "execute_result",
          "data": {
            "text/plain": [
              "       Unnamed: 0          A            B          C          D          E  \\\n",
              "0               0  -9.989516  1564.957586   8.199060  32.508797  19.464400   \n",
              "1               1 -17.591800  1559.053039  12.302737 -36.351098   6.256406   \n",
              "2               2 -28.321695  1305.900952 -35.681049  -9.039358 -45.519426   \n",
              "3               3 -40.471241  1612.746996 -28.980454   2.137719 -34.767491   \n",
              "4               4 -36.525271  1852.275617 -32.744347  -1.439526 -14.061837   \n",
              "...           ...        ...          ...        ...        ...        ...   \n",
              "49995       49995  38.882059  1829.766795  -9.597762  42.286077 -45.676532   \n",
              "49996       49996 -29.570690  1467.757407  -2.581269   8.699766 -32.209400   \n",
              "49997       49997 -26.656483  1081.812179  19.742925 -49.109287  -8.179490   \n",
              "49998       49998  49.470595  1418.823031  14.854524  -6.995360  27.184947   \n",
              "49999       49999 -25.982072  1679.672351 -34.735487 -16.517472   6.606794   \n",
              "\n",
              "                 F          G          H            I  ...           L  \\\n",
              "0      1644.524093  26.100966  34.731954  4378.575414  ...  770.535311   \n",
              "1      1640.834263  12.954212 -43.333128  4833.766813  ...  997.260070   \n",
              "2      2039.003363  -0.154348  18.107957  4162.395297  ...  616.059291   \n",
              "3      2757.469393  23.857472 -48.434183  4340.953927  ...  715.537625   \n",
              "4      2138.422485  44.061988  33.336936  4099.453685  ...  629.221442   \n",
              "...            ...        ...        ...          ...  ...         ...   \n",
              "49995  2340.446842  44.758699 -49.232038  4561.096049  ...  931.215587   \n",
              "49996  2065.685621  13.244693 -27.154067  4922.613361  ...  646.439398   \n",
              "49997  1755.112415 -26.730046 -32.187078  4289.779346  ...  950.109763   \n",
              "49998  1235.231487  34.556613 -33.790945  4119.297411  ...  742.735044   \n",
              "49999  2375.299327  33.975192  -8.225393  4017.898569  ...  888.777601   \n",
              "\n",
              "               M          N          O          P          Q          R  \\\n",
              "0      30.060441 -25.002361  11.892468 -34.329383  37.218423  -4.440530   \n",
              "1      -1.329145  16.022086  42.972484  -7.372877  45.550946  37.576551   \n",
              "2      -6.997085  27.846844  26.511376  19.323152 -35.807513  -5.913019   \n",
              "3     -12.441561  47.883435  36.994884  30.783992  22.162383  16.465836   \n",
              "4      10.992360 -47.143335  -8.296962  -8.086565  39.169726 -49.540056   \n",
              "...          ...        ...        ...        ...        ...        ...   \n",
              "49995 -19.667192  20.825892  18.055764 -40.074521  44.966776  30.681416   \n",
              "49996  45.407497 -41.574684 -41.278010  34.484129  16.631234 -10.488980   \n",
              "49997  -1.341077 -33.268738  32.604813 -17.198521 -29.136001  24.609231   \n",
              "49998 -48.406474  -4.081799  20.777856 -49.422060 -31.251860 -27.546928   \n",
              "49999  33.897617 -25.710304  27.512513  29.199493  29.509718 -47.344110   \n",
              "\n",
              "               S          T         label  \n",
              "0      29.075092  29.107896    311.232491  \n",
              "1      12.926551 -32.565844   6393.112342  \n",
              "2      15.046779 -34.332357   2601.046223  \n",
              "3      41.435425  33.561233  13572.118106  \n",
              "4     -32.518653 -36.320202  -5462.446898  \n",
              "...          ...        ...           ...  \n",
              "49995  38.376682  33.942225   9034.945727  \n",
              "49996 -11.637358 -25.774032  -6345.178110  \n",
              "49997  11.935784 -35.190456   1483.917022  \n",
              "49998  38.121308 -10.588040  10720.139180  \n",
              "49999  -3.357583 -48.462504   2185.127958  \n",
              "\n",
              "[50000 rows x 22 columns]"
            ],
            "text/html": [
              "\n",
              "  <div id=\"df-0ad03f3e-5fa1-4ac5-9b73-85ab0d14da93\">\n",
              "    <div class=\"colab-df-container\">\n",
              "      <div>\n",
              "<style scoped>\n",
              "    .dataframe tbody tr th:only-of-type {\n",
              "        vertical-align: middle;\n",
              "    }\n",
              "\n",
              "    .dataframe tbody tr th {\n",
              "        vertical-align: top;\n",
              "    }\n",
              "\n",
              "    .dataframe thead th {\n",
              "        text-align: right;\n",
              "    }\n",
              "</style>\n",
              "<table border=\"1\" class=\"dataframe\">\n",
              "  <thead>\n",
              "    <tr style=\"text-align: right;\">\n",
              "      <th></th>\n",
              "      <th>Unnamed: 0</th>\n",
              "      <th>A</th>\n",
              "      <th>B</th>\n",
              "      <th>C</th>\n",
              "      <th>D</th>\n",
              "      <th>E</th>\n",
              "      <th>F</th>\n",
              "      <th>G</th>\n",
              "      <th>H</th>\n",
              "      <th>I</th>\n",
              "      <th>...</th>\n",
              "      <th>L</th>\n",
              "      <th>M</th>\n",
              "      <th>N</th>\n",
              "      <th>O</th>\n",
              "      <th>P</th>\n",
              "      <th>Q</th>\n",
              "      <th>R</th>\n",
              "      <th>S</th>\n",
              "      <th>T</th>\n",
              "      <th>label</th>\n",
              "    </tr>\n",
              "  </thead>\n",
              "  <tbody>\n",
              "    <tr>\n",
              "      <th>0</th>\n",
              "      <td>0</td>\n",
              "      <td>-9.989516</td>\n",
              "      <td>1564.957586</td>\n",
              "      <td>8.199060</td>\n",
              "      <td>32.508797</td>\n",
              "      <td>19.464400</td>\n",
              "      <td>1644.524093</td>\n",
              "      <td>26.100966</td>\n",
              "      <td>34.731954</td>\n",
              "      <td>4378.575414</td>\n",
              "      <td>...</td>\n",
              "      <td>770.535311</td>\n",
              "      <td>30.060441</td>\n",
              "      <td>-25.002361</td>\n",
              "      <td>11.892468</td>\n",
              "      <td>-34.329383</td>\n",
              "      <td>37.218423</td>\n",
              "      <td>-4.440530</td>\n",
              "      <td>29.075092</td>\n",
              "      <td>29.107896</td>\n",
              "      <td>311.232491</td>\n",
              "    </tr>\n",
              "    <tr>\n",
              "      <th>1</th>\n",
              "      <td>1</td>\n",
              "      <td>-17.591800</td>\n",
              "      <td>1559.053039</td>\n",
              "      <td>12.302737</td>\n",
              "      <td>-36.351098</td>\n",
              "      <td>6.256406</td>\n",
              "      <td>1640.834263</td>\n",
              "      <td>12.954212</td>\n",
              "      <td>-43.333128</td>\n",
              "      <td>4833.766813</td>\n",
              "      <td>...</td>\n",
              "      <td>997.260070</td>\n",
              "      <td>-1.329145</td>\n",
              "      <td>16.022086</td>\n",
              "      <td>42.972484</td>\n",
              "      <td>-7.372877</td>\n",
              "      <td>45.550946</td>\n",
              "      <td>37.576551</td>\n",
              "      <td>12.926551</td>\n",
              "      <td>-32.565844</td>\n",
              "      <td>6393.112342</td>\n",
              "    </tr>\n",
              "    <tr>\n",
              "      <th>2</th>\n",
              "      <td>2</td>\n",
              "      <td>-28.321695</td>\n",
              "      <td>1305.900952</td>\n",
              "      <td>-35.681049</td>\n",
              "      <td>-9.039358</td>\n",
              "      <td>-45.519426</td>\n",
              "      <td>2039.003363</td>\n",
              "      <td>-0.154348</td>\n",
              "      <td>18.107957</td>\n",
              "      <td>4162.395297</td>\n",
              "      <td>...</td>\n",
              "      <td>616.059291</td>\n",
              "      <td>-6.997085</td>\n",
              "      <td>27.846844</td>\n",
              "      <td>26.511376</td>\n",
              "      <td>19.323152</td>\n",
              "      <td>-35.807513</td>\n",
              "      <td>-5.913019</td>\n",
              "      <td>15.046779</td>\n",
              "      <td>-34.332357</td>\n",
              "      <td>2601.046223</td>\n",
              "    </tr>\n",
              "    <tr>\n",
              "      <th>3</th>\n",
              "      <td>3</td>\n",
              "      <td>-40.471241</td>\n",
              "      <td>1612.746996</td>\n",
              "      <td>-28.980454</td>\n",
              "      <td>2.137719</td>\n",
              "      <td>-34.767491</td>\n",
              "      <td>2757.469393</td>\n",
              "      <td>23.857472</td>\n",
              "      <td>-48.434183</td>\n",
              "      <td>4340.953927</td>\n",
              "      <td>...</td>\n",
              "      <td>715.537625</td>\n",
              "      <td>-12.441561</td>\n",
              "      <td>47.883435</td>\n",
              "      <td>36.994884</td>\n",
              "      <td>30.783992</td>\n",
              "      <td>22.162383</td>\n",
              "      <td>16.465836</td>\n",
              "      <td>41.435425</td>\n",
              "      <td>33.561233</td>\n",
              "      <td>13572.118106</td>\n",
              "    </tr>\n",
              "    <tr>\n",
              "      <th>4</th>\n",
              "      <td>4</td>\n",
              "      <td>-36.525271</td>\n",
              "      <td>1852.275617</td>\n",
              "      <td>-32.744347</td>\n",
              "      <td>-1.439526</td>\n",
              "      <td>-14.061837</td>\n",
              "      <td>2138.422485</td>\n",
              "      <td>44.061988</td>\n",
              "      <td>33.336936</td>\n",
              "      <td>4099.453685</td>\n",
              "      <td>...</td>\n",
              "      <td>629.221442</td>\n",
              "      <td>10.992360</td>\n",
              "      <td>-47.143335</td>\n",
              "      <td>-8.296962</td>\n",
              "      <td>-8.086565</td>\n",
              "      <td>39.169726</td>\n",
              "      <td>-49.540056</td>\n",
              "      <td>-32.518653</td>\n",
              "      <td>-36.320202</td>\n",
              "      <td>-5462.446898</td>\n",
              "    </tr>\n",
              "    <tr>\n",
              "      <th>...</th>\n",
              "      <td>...</td>\n",
              "      <td>...</td>\n",
              "      <td>...</td>\n",
              "      <td>...</td>\n",
              "      <td>...</td>\n",
              "      <td>...</td>\n",
              "      <td>...</td>\n",
              "      <td>...</td>\n",
              "      <td>...</td>\n",
              "      <td>...</td>\n",
              "      <td>...</td>\n",
              "      <td>...</td>\n",
              "      <td>...</td>\n",
              "      <td>...</td>\n",
              "      <td>...</td>\n",
              "      <td>...</td>\n",
              "      <td>...</td>\n",
              "      <td>...</td>\n",
              "      <td>...</td>\n",
              "      <td>...</td>\n",
              "      <td>...</td>\n",
              "    </tr>\n",
              "    <tr>\n",
              "      <th>49995</th>\n",
              "      <td>49995</td>\n",
              "      <td>38.882059</td>\n",
              "      <td>1829.766795</td>\n",
              "      <td>-9.597762</td>\n",
              "      <td>42.286077</td>\n",
              "      <td>-45.676532</td>\n",
              "      <td>2340.446842</td>\n",
              "      <td>44.758699</td>\n",
              "      <td>-49.232038</td>\n",
              "      <td>4561.096049</td>\n",
              "      <td>...</td>\n",
              "      <td>931.215587</td>\n",
              "      <td>-19.667192</td>\n",
              "      <td>20.825892</td>\n",
              "      <td>18.055764</td>\n",
              "      <td>-40.074521</td>\n",
              "      <td>44.966776</td>\n",
              "      <td>30.681416</td>\n",
              "      <td>38.376682</td>\n",
              "      <td>33.942225</td>\n",
              "      <td>9034.945727</td>\n",
              "    </tr>\n",
              "    <tr>\n",
              "      <th>49996</th>\n",
              "      <td>49996</td>\n",
              "      <td>-29.570690</td>\n",
              "      <td>1467.757407</td>\n",
              "      <td>-2.581269</td>\n",
              "      <td>8.699766</td>\n",
              "      <td>-32.209400</td>\n",
              "      <td>2065.685621</td>\n",
              "      <td>13.244693</td>\n",
              "      <td>-27.154067</td>\n",
              "      <td>4922.613361</td>\n",
              "      <td>...</td>\n",
              "      <td>646.439398</td>\n",
              "      <td>45.407497</td>\n",
              "      <td>-41.574684</td>\n",
              "      <td>-41.278010</td>\n",
              "      <td>34.484129</td>\n",
              "      <td>16.631234</td>\n",
              "      <td>-10.488980</td>\n",
              "      <td>-11.637358</td>\n",
              "      <td>-25.774032</td>\n",
              "      <td>-6345.178110</td>\n",
              "    </tr>\n",
              "    <tr>\n",
              "      <th>49997</th>\n",
              "      <td>49997</td>\n",
              "      <td>-26.656483</td>\n",
              "      <td>1081.812179</td>\n",
              "      <td>19.742925</td>\n",
              "      <td>-49.109287</td>\n",
              "      <td>-8.179490</td>\n",
              "      <td>1755.112415</td>\n",
              "      <td>-26.730046</td>\n",
              "      <td>-32.187078</td>\n",
              "      <td>4289.779346</td>\n",
              "      <td>...</td>\n",
              "      <td>950.109763</td>\n",
              "      <td>-1.341077</td>\n",
              "      <td>-33.268738</td>\n",
              "      <td>32.604813</td>\n",
              "      <td>-17.198521</td>\n",
              "      <td>-29.136001</td>\n",
              "      <td>24.609231</td>\n",
              "      <td>11.935784</td>\n",
              "      <td>-35.190456</td>\n",
              "      <td>1483.917022</td>\n",
              "    </tr>\n",
              "    <tr>\n",
              "      <th>49998</th>\n",
              "      <td>49998</td>\n",
              "      <td>49.470595</td>\n",
              "      <td>1418.823031</td>\n",
              "      <td>14.854524</td>\n",
              "      <td>-6.995360</td>\n",
              "      <td>27.184947</td>\n",
              "      <td>1235.231487</td>\n",
              "      <td>34.556613</td>\n",
              "      <td>-33.790945</td>\n",
              "      <td>4119.297411</td>\n",
              "      <td>...</td>\n",
              "      <td>742.735044</td>\n",
              "      <td>-48.406474</td>\n",
              "      <td>-4.081799</td>\n",
              "      <td>20.777856</td>\n",
              "      <td>-49.422060</td>\n",
              "      <td>-31.251860</td>\n",
              "      <td>-27.546928</td>\n",
              "      <td>38.121308</td>\n",
              "      <td>-10.588040</td>\n",
              "      <td>10720.139180</td>\n",
              "    </tr>\n",
              "    <tr>\n",
              "      <th>49999</th>\n",
              "      <td>49999</td>\n",
              "      <td>-25.982072</td>\n",
              "      <td>1679.672351</td>\n",
              "      <td>-34.735487</td>\n",
              "      <td>-16.517472</td>\n",
              "      <td>6.606794</td>\n",
              "      <td>2375.299327</td>\n",
              "      <td>33.975192</td>\n",
              "      <td>-8.225393</td>\n",
              "      <td>4017.898569</td>\n",
              "      <td>...</td>\n",
              "      <td>888.777601</td>\n",
              "      <td>33.897617</td>\n",
              "      <td>-25.710304</td>\n",
              "      <td>27.512513</td>\n",
              "      <td>29.199493</td>\n",
              "      <td>29.509718</td>\n",
              "      <td>-47.344110</td>\n",
              "      <td>-3.357583</td>\n",
              "      <td>-48.462504</td>\n",
              "      <td>2185.127958</td>\n",
              "    </tr>\n",
              "  </tbody>\n",
              "</table>\n",
              "<p>50000 rows × 22 columns</p>\n",
              "</div>\n",
              "      <button class=\"colab-df-convert\" onclick=\"convertToInteractive('df-0ad03f3e-5fa1-4ac5-9b73-85ab0d14da93')\"\n",
              "              title=\"Convert this dataframe to an interactive table.\"\n",
              "              style=\"display:none;\">\n",
              "        \n",
              "  <svg xmlns=\"http://www.w3.org/2000/svg\" height=\"24px\"viewBox=\"0 0 24 24\"\n",
              "       width=\"24px\">\n",
              "    <path d=\"M0 0h24v24H0V0z\" fill=\"none\"/>\n",
              "    <path d=\"M18.56 5.44l.94 2.06.94-2.06 2.06-.94-2.06-.94-.94-2.06-.94 2.06-2.06.94zm-11 1L8.5 8.5l.94-2.06 2.06-.94-2.06-.94L8.5 2.5l-.94 2.06-2.06.94zm10 10l.94 2.06.94-2.06 2.06-.94-2.06-.94-.94-2.06-.94 2.06-2.06.94z\"/><path d=\"M17.41 7.96l-1.37-1.37c-.4-.4-.92-.59-1.43-.59-.52 0-1.04.2-1.43.59L10.3 9.45l-7.72 7.72c-.78.78-.78 2.05 0 2.83L4 21.41c.39.39.9.59 1.41.59.51 0 1.02-.2 1.41-.59l7.78-7.78 2.81-2.81c.8-.78.8-2.07 0-2.86zM5.41 20L4 18.59l7.72-7.72 1.47 1.35L5.41 20z\"/>\n",
              "  </svg>\n",
              "      </button>\n",
              "      \n",
              "  <style>\n",
              "    .colab-df-container {\n",
              "      display:flex;\n",
              "      flex-wrap:wrap;\n",
              "      gap: 12px;\n",
              "    }\n",
              "\n",
              "    .colab-df-convert {\n",
              "      background-color: #E8F0FE;\n",
              "      border: none;\n",
              "      border-radius: 50%;\n",
              "      cursor: pointer;\n",
              "      display: none;\n",
              "      fill: #1967D2;\n",
              "      height: 32px;\n",
              "      padding: 0 0 0 0;\n",
              "      width: 32px;\n",
              "    }\n",
              "\n",
              "    .colab-df-convert:hover {\n",
              "      background-color: #E2EBFA;\n",
              "      box-shadow: 0px 1px 2px rgba(60, 64, 67, 0.3), 0px 1px 3px 1px rgba(60, 64, 67, 0.15);\n",
              "      fill: #174EA6;\n",
              "    }\n",
              "\n",
              "    [theme=dark] .colab-df-convert {\n",
              "      background-color: #3B4455;\n",
              "      fill: #D2E3FC;\n",
              "    }\n",
              "\n",
              "    [theme=dark] .colab-df-convert:hover {\n",
              "      background-color: #434B5C;\n",
              "      box-shadow: 0px 1px 3px 1px rgba(0, 0, 0, 0.15);\n",
              "      filter: drop-shadow(0px 1px 2px rgba(0, 0, 0, 0.3));\n",
              "      fill: #FFFFFF;\n",
              "    }\n",
              "  </style>\n",
              "\n",
              "      <script>\n",
              "        const buttonEl =\n",
              "          document.querySelector('#df-0ad03f3e-5fa1-4ac5-9b73-85ab0d14da93 button.colab-df-convert');\n",
              "        buttonEl.style.display =\n",
              "          google.colab.kernel.accessAllowed ? 'block' : 'none';\n",
              "\n",
              "        async function convertToInteractive(key) {\n",
              "          const element = document.querySelector('#df-0ad03f3e-5fa1-4ac5-9b73-85ab0d14da93');\n",
              "          const dataTable =\n",
              "            await google.colab.kernel.invokeFunction('convertToInteractive',\n",
              "                                                     [key], {});\n",
              "          if (!dataTable) return;\n",
              "\n",
              "          const docLinkHtml = 'Like what you see? Visit the ' +\n",
              "            '<a target=\"_blank\" href=https://colab.research.google.com/notebooks/data_table.ipynb>data table notebook</a>'\n",
              "            + ' to learn more about interactive tables.';\n",
              "          element.innerHTML = '';\n",
              "          dataTable['output_type'] = 'display_data';\n",
              "          await google.colab.output.renderOutput(dataTable, element);\n",
              "          const docLink = document.createElement('div');\n",
              "          docLink.innerHTML = docLinkHtml;\n",
              "          element.appendChild(docLink);\n",
              "        }\n",
              "      </script>\n",
              "    </div>\n",
              "  </div>\n",
              "  "
            ]
          },
          "metadata": {},
          "execution_count": 99
        }
      ]
    },
    {
      "cell_type": "code",
      "source": [
        "train = train.to_numpy()\n",
        "train = train[:, 1:]"
      ],
      "metadata": {
        "id": "bYfj_7byHrDc"
      },
      "execution_count": null,
      "outputs": []
    },
    {
      "cell_type": "code",
      "source": [
        "min = np.amin(train, axis = 0)\n",
        "max = np.amax(train, axis = 0)\n",
        "\n",
        "for i in range(20):\n",
        "  train[:, i] = (train[:,i] - min[i]) / (max[i] - min[i])"
      ],
      "metadata": {
        "id": "aUy0icjXiNUa"
      },
      "execution_count": null,
      "outputs": []
    },
    {
      "cell_type": "code",
      "source": [
        "trainX = train[:, 0:20]\n",
        "trainY = train[:, 20]"
      ],
      "metadata": {
        "id": "2AodOcg2I_l9"
      },
      "execution_count": null,
      "outputs": []
    },
    {
      "cell_type": "code",
      "source": [
        "# trainX = train.iloc[:, 1:21]\n",
        "# trainX = trainX.to_numpy()\n",
        "print(np.shape(trainX))"
      ],
      "metadata": {
        "id": "aUNlplQU92Ag",
        "colab": {
          "base_uri": "https://localhost:8080/"
        },
        "outputId": "ab0ef676-6274-45fb-80f7-385395f145ef"
      },
      "execution_count": null,
      "outputs": [
        {
          "output_type": "stream",
          "name": "stdout",
          "text": [
            "(50000, 20)\n"
          ]
        }
      ]
    },
    {
      "cell_type": "code",
      "source": [
        "def normeq(X, Y):\n",
        "  inv = np.linalg.inv(np.dot(X.T,X))\n",
        "  theta = np.dot(np.dot(inv, X.T ), Y )\n",
        "  pred = np.dot(X, theta)\n",
        "  return pred"
      ],
      "metadata": {
        "id": "0Kt5Qd1S_fxS"
      },
      "execution_count": null,
      "outputs": []
    },
    {
      "cell_type": "code",
      "source": [
        "normeq(X= trainX,Y= trainY)"
      ],
      "metadata": {
        "id": "XuGOSRM8_Nax",
        "colab": {
          "base_uri": "https://localhost:8080/"
        },
        "outputId": "21f5c285-3d4e-4b2b-a39e-4604a06ea0c8"
      },
      "execution_count": null,
      "outputs": [
        {
          "output_type": "execute_result",
          "data": {
            "text/plain": [
              "array([-1102.42326313,  5054.31501069,  5184.59830178, ...,\n",
              "        3254.28970213, 11599.22657998,  2343.3359438 ])"
            ]
          },
          "metadata": {},
          "execution_count": 105
        }
      ]
    },
    {
      "cell_type": "code",
      "source": [
        "x0 = np.ones([np.shape(trainX)[0], 1], dtype = int)\n",
        "trainXf = np.append(x0, trainX, axis = 1)\n",
        "print(np.shape(trainXf))"
      ],
      "metadata": {
        "colab": {
          "base_uri": "https://localhost:8080/"
        },
        "id": "XFrbKJMNWhG-",
        "outputId": "834a7f54-c3a7-46ed-fcef-8df4949a4491"
      },
      "execution_count": null,
      "outputs": [
        {
          "output_type": "stream",
          "name": "stdout",
          "text": [
            "(50000, 21)\n"
          ]
        }
      ]
    },
    {
      "cell_type": "code",
      "source": [
        "trainY = trainY.reshape(trainY.shape[0], 1)"
      ],
      "metadata": {
        "id": "3xrHqHKA1Bht"
      },
      "execution_count": null,
      "outputs": []
    },
    {
      "cell_type": "code",
      "source": [
        "def grad(X, Y, learning_rate, noofiter):\n",
        "  row,column = np.shape(X)\n",
        "  theta = np.random.randn(column, 1)\n",
        "  costvalues = []\n",
        "\n",
        "  for t in range(noofiter):\n",
        "    y_pred = np.dot(X, theta)\n",
        "    cost = (1/(2*row))*np.sum(np.square(y_pred - Y))\n",
        "    costdif = (1/(row))*np.dot(X.T, y_pred - Y)\n",
        "    theta = theta - learning_rate*costdif\n",
        "    costvalues.append(cost)\n",
        "\n",
        "    if( t % (noofiter/10) == 0):\n",
        "      print(\"Cost after\", t ,\"is :\", cost)\n",
        "  ypred = np.dot(X, theta)\n",
        "\n",
        "  return ypred, theta, costvalues"
      ],
      "metadata": {
        "id": "IXqwNt5cCgBl"
      },
      "execution_count": null,
      "outputs": []
    },
    {
      "cell_type": "code",
      "source": [
        "learning_rate = 0.3\n",
        "noofiter=5000\n",
        "y_pred, theta ,costvalues = grad(X=trainXf, Y=trainY, learning_rate = learning_rate, noofiter=noofiter)"
      ],
      "metadata": {
        "colab": {
          "base_uri": "https://localhost:8080/"
        },
        "id": "bStLI0fh82mh",
        "outputId": "8ee478f0-2bca-4f4b-d585-1eaf8a9b4b67"
      },
      "execution_count": null,
      "outputs": [
        {
          "output_type": "stream",
          "name": "stdout",
          "text": [
            "Cost after 0 is : 13397331.393132182\n",
            "Cost after 500 is : 23884.894175380123\n",
            "Cost after 1000 is : 2293.5418996114854\n",
            "Cost after 1500 is : 1913.8936396208114\n",
            "Cost after 2000 is : 1907.2181520301394\n",
            "Cost after 2500 is : 1907.1007746066941\n",
            "Cost after 3000 is : 1907.0987107185745\n",
            "Cost after 3500 is : 1907.0986744285103\n",
            "Cost after 4000 is : 1907.0986737904088\n",
            "Cost after 4500 is : 1907.0986737791895\n"
          ]
        }
      ]
    },
    {
      "cell_type": "code",
      "source": [
        "theta.shape"
      ],
      "metadata": {
        "id": "P4-SUDxSwLQb",
        "colab": {
          "base_uri": "https://localhost:8080/"
        },
        "outputId": "9e1c7cdc-504d-4c57-c92a-ce4985f0a741"
      },
      "execution_count": null,
      "outputs": [
        {
          "output_type": "execute_result",
          "data": {
            "text/plain": [
              "(21, 1)"
            ]
          },
          "metadata": {},
          "execution_count": 119
        }
      ]
    },
    {
      "cell_type": "code",
      "source": [
        "mpl.plot(np.arange(0, noofiter), costvalues)\n",
        "mpl.show()"
      ],
      "metadata": {
        "id": "JMSAF46HT8lP",
        "colab": {
          "base_uri": "https://localhost:8080/",
          "height": 276
        },
        "outputId": "9354e34d-f1ba-4dc7-f47f-3775b5bb91dd"
      },
      "execution_count": null,
      "outputs": [
        {
          "output_type": "display_data",
          "data": {
            "text/plain": [
              "<Figure size 432x288 with 1 Axes>"
            ],
            "image/png": "[encoded data removed]"
          },
          "metadata": {
            "needs_background": "light"
          }
        }
      ]
    },
    {
      "cell_type": "code",
      "source": [
        "test = pd.read_csv('/content/drive/MyDrive/linear/Linear_test.csv')\n",
        "test.head()"
      ],
      "metadata": {
        "id": "0BMSJfx-TFHp",
        "colab": {
          "base_uri": "https://localhost:8080/",
          "height": 317
        },
        "outputId": "148138a8-e50e-46b3-a598-268b73108b79"
      },
      "execution_count": null,
      "outputs": [
        {
          "output_type": "execute_result",
          "data": {
            "text/plain": [
              "   Unnamed: 0          A            B          C          D          E  \\\n",
              "0           0  40.790740  1187.897579 -28.941991  43.498302  14.157983   \n",
              "1           1  47.968749  1498.588679  24.922821 -38.979082  16.405452   \n",
              "2           2   9.762564  1316.354415   1.170771  10.365178 -11.993156   \n",
              "3           3   6.414629  1895.586749  44.496934 -49.677800 -24.825833   \n",
              "4           4  -4.112012  1130.920162  19.103960  -8.741503 -28.589701   \n",
              "\n",
              "             F          G          H            I  ...           L          M  \\\n",
              "0  2536.000797 -34.181638 -14.940211  4746.739893  ...  707.727094  21.030812   \n",
              "1  1798.950305 -23.660484 -34.792328  4076.982013  ...  737.135391 -17.860346   \n",
              "2  2714.382200  26.382837  27.442924  4178.719984  ...  940.732329 -35.879432   \n",
              "3  2327.316373   1.406644  44.103008  4586.697737  ...  925.441952 -19.409771   \n",
              "4  1299.418975  42.946135   4.758032  4809.536369  ...  797.953813 -46.788081   \n",
              "\n",
              "           N          O          P          Q          R          S  \\\n",
              "0 -44.606156  -9.625546  42.276162 -11.000471 -19.830564  -5.529430   \n",
              "1  42.274026 -19.886483  16.337922   9.025313  27.760845  21.484409   \n",
              "2  23.837924   3.729191  33.564390  12.848880 -45.837834 -49.592176   \n",
              "3  25.346975  -7.729920 -42.813516 -17.666168  35.506064 -49.048652   \n",
              "4  43.876292  34.009303  34.061089 -30.182903 -41.188733  26.828040   \n",
              "\n",
              "           T         label  \n",
              "0 -28.154864   -163.522723  \n",
              "1 -24.206545   6484.664510  \n",
              "2  36.688611   2393.818082  \n",
              "3 -34.048583  -9397.072355  \n",
              "4 -22.476663  10487.323575  \n",
              "\n",
              "[5 rows x 22 columns]"
            ],
            "text/html": [
              "\n",
              "  <div id=\"df-37ea0a02-facc-4050-8b98-d5ed3ab5fdbe\">\n",
              "    <div class=\"colab-df-container\">\n",
              "      <div>\n",
              "<style scoped>\n",
              "    .dataframe tbody tr th:only-of-type {\n",
              "        vertical-align: middle;\n",
              "    }\n",
              "\n",
              "    .dataframe tbody tr th {\n",
              "        vertical-align: top;\n",
              "    }\n",
              "\n",
              "    .dataframe thead th {\n",
              "        text-align: right;\n",
              "    }\n",
              "</style>\n",
              "<table border=\"1\" class=\"dataframe\">\n",
              "  <thead>\n",
              "    <tr style=\"text-align: right;\">\n",
              "      <th></th>\n",
              "      <th>Unnamed: 0</th>\n",
              "      <th>A</th>\n",
              "      <th>B</th>\n",
              "      <th>C</th>\n",
              "      <th>D</th>\n",
              "      <th>E</th>\n",
              "      <th>F</th>\n",
              "      <th>G</th>\n",
              "      <th>H</th>\n",
              "      <th>I</th>\n",
              "      <th>...</th>\n",
              "      <th>L</th>\n",
              "      <th>M</th>\n",
              "      <th>N</th>\n",
              "      <th>O</th>\n",
              "      <th>P</th>\n",
              "      <th>Q</th>\n",
              "      <th>R</th>\n",
              "      <th>S</th>\n",
              "      <th>T</th>\n",
              "      <th>label</th>\n",
              "    </tr>\n",
              "  </thead>\n",
              "  <tbody>\n",
              "    <tr>\n",
              "      <th>0</th>\n",
              "      <td>0</td>\n",
              "      <td>40.790740</td>\n",
              "      <td>1187.897579</td>\n",
              "      <td>-28.941991</td>\n",
              "      <td>43.498302</td>\n",
              "      <td>14.157983</td>\n",
              "      <td>2536.000797</td>\n",
              "      <td>-34.181638</td>\n",
              "      <td>-14.940211</td>\n",
              "      <td>4746.739893</td>\n",
              "      <td>...</td>\n",
              "      <td>707.727094</td>\n",
              "      <td>21.030812</td>\n",
              "      <td>-44.606156</td>\n",
              "      <td>-9.625546</td>\n",
              "      <td>42.276162</td>\n",
              "      <td>-11.000471</td>\n",
              "      <td>-19.830564</td>\n",
              "      <td>-5.529430</td>\n",
              "      <td>-28.154864</td>\n",
              "      <td>-163.522723</td>\n",
              "    </tr>\n",
              "    <tr>\n",
              "      <th>1</th>\n",
              "      <td>1</td>\n",
              "      <td>47.968749</td>\n",
              "      <td>1498.588679</td>\n",
              "      <td>24.922821</td>\n",
              "      <td>-38.979082</td>\n",
              "      <td>16.405452</td>\n",
              "      <td>1798.950305</td>\n",
              "      <td>-23.660484</td>\n",
              "      <td>-34.792328</td>\n",
              "      <td>4076.982013</td>\n",
              "      <td>...</td>\n",
              "      <td>737.135391</td>\n",
              "      <td>-17.860346</td>\n",
              "      <td>42.274026</td>\n",
              "      <td>-19.886483</td>\n",
              "      <td>16.337922</td>\n",
              "      <td>9.025313</td>\n",
              "      <td>27.760845</td>\n",
              "      <td>21.484409</td>\n",
              "      <td>-24.206545</td>\n",
              "      <td>6484.664510</td>\n",
              "    </tr>\n",
              "    <tr>\n",
              "      <th>2</th>\n",
              "      <td>2</td>\n",
              "      <td>9.762564</td>\n",
              "      <td>1316.354415</td>\n",
              "      <td>1.170771</td>\n",
              "      <td>10.365178</td>\n",
              "      <td>-11.993156</td>\n",
              "      <td>2714.382200</td>\n",
              "      <td>26.382837</td>\n",
              "      <td>27.442924</td>\n",
              "      <td>4178.719984</td>\n",
              "      <td>...</td>\n",
              "      <td>940.732329</td>\n",
              "      <td>-35.879432</td>\n",
              "      <td>23.837924</td>\n",
              "      <td>3.729191</td>\n",
              "      <td>33.564390</td>\n",
              "      <td>12.848880</td>\n",
              "      <td>-45.837834</td>\n",
              "      <td>-49.592176</td>\n",
              "      <td>36.688611</td>\n",
              "      <td>2393.818082</td>\n",
              "    </tr>\n",
              "    <tr>\n",
              "      <th>3</th>\n",
              "      <td>3</td>\n",
              "      <td>6.414629</td>\n",
              "      <td>1895.586749</td>\n",
              "      <td>44.496934</td>\n",
              "      <td>-49.677800</td>\n",
              "      <td>-24.825833</td>\n",
              "      <td>2327.316373</td>\n",
              "      <td>1.406644</td>\n",
              "      <td>44.103008</td>\n",
              "      <td>4586.697737</td>\n",
              "      <td>...</td>\n",
              "      <td>925.441952</td>\n",
              "      <td>-19.409771</td>\n",
              "      <td>25.346975</td>\n",
              "      <td>-7.729920</td>\n",
              "      <td>-42.813516</td>\n",
              "      <td>-17.666168</td>\n",
              "      <td>35.506064</td>\n",
              "      <td>-49.048652</td>\n",
              "      <td>-34.048583</td>\n",
              "      <td>-9397.072355</td>\n",
              "    </tr>\n",
              "    <tr>\n",
              "      <th>4</th>\n",
              "      <td>4</td>\n",
              "      <td>-4.112012</td>\n",
              "      <td>1130.920162</td>\n",
              "      <td>19.103960</td>\n",
              "      <td>-8.741503</td>\n",
              "      <td>-28.589701</td>\n",
              "      <td>1299.418975</td>\n",
              "      <td>42.946135</td>\n",
              "      <td>4.758032</td>\n",
              "      <td>4809.536369</td>\n",
              "      <td>...</td>\n",
              "      <td>797.953813</td>\n",
              "      <td>-46.788081</td>\n",
              "      <td>43.876292</td>\n",
              "      <td>34.009303</td>\n",
              "      <td>34.061089</td>\n",
              "      <td>-30.182903</td>\n",
              "      <td>-41.188733</td>\n",
              "      <td>26.828040</td>\n",
              "      <td>-22.476663</td>\n",
              "      <td>10487.323575</td>\n",
              "    </tr>\n",
              "  </tbody>\n",
              "</table>\n",
              "<p>5 rows × 22 columns</p>\n",
              "</div>\n",
              "      <button class=\"colab-df-convert\" onclick=\"convertToInteractive('df-37ea0a02-facc-4050-8b98-d5ed3ab5fdbe')\"\n",
              "              title=\"Convert this dataframe to an interactive table.\"\n",
              "              style=\"display:none;\">\n",
              "        \n",
              "  <svg xmlns=\"http://www.w3.org/2000/svg\" height=\"24px\"viewBox=\"0 0 24 24\"\n",
              "       width=\"24px\">\n",
              "    <path d=\"M0 0h24v24H0V0z\" fill=\"none\"/>\n",
              "    <path d=\"M18.56 5.44l.94 2.06.94-2.06 2.06-.94-2.06-.94-.94-2.06-.94 2.06-2.06.94zm-11 1L8.5 8.5l.94-2.06 2.06-.94-2.06-.94L8.5 2.5l-.94 2.06-2.06.94zm10 10l.94 2.06.94-2.06 2.06-.94-2.06-.94-.94-2.06-.94 2.06-2.06.94z\"/><path d=\"M17.41 7.96l-1.37-1.37c-.4-.4-.92-.59-1.43-.59-.52 0-1.04.2-1.43.59L10.3 9.45l-7.72 7.72c-.78.78-.78 2.05 0 2.83L4 21.41c.39.39.9.59 1.41.59.51 0 1.02-.2 1.41-.59l7.78-7.78 2.81-2.81c.8-.78.8-2.07 0-2.86zM5.41 20L4 18.59l7.72-7.72 1.47 1.35L5.41 20z\"/>\n",
              "  </svg>\n",
              "      </button>\n",
              "      \n",
              "  <style>\n",
              "    .colab-df-container {\n",
              "      display:flex;\n",
              "      flex-wrap:wrap;\n",
              "      gap: 12px;\n",
              "    }\n",
              "\n",
              "    .colab-df-convert {\n",
              "      background-color: #E8F0FE;\n",
              "      border: none;\n",
              "      border-radius: 50%;\n",
              "      cursor: pointer;\n",
              "      display: none;\n",
              "      fill: #1967D2;\n",
              "      height: 32px;\n",
              "      padding: 0 0 0 0;\n",
              "      width: 32px;\n",
              "    }\n",
              "\n",
              "    .colab-df-convert:hover {\n",
              "      background-color: #E2EBFA;\n",
              "      box-shadow: 0px 1px 2px rgba(60, 64, 67, 0.3), 0px 1px 3px 1px rgba(60, 64, 67, 0.15);\n",
              "      fill: #174EA6;\n",
              "    }\n",
              "\n",
              "    [theme=dark] .colab-df-convert {\n",
              "      background-color: #3B4455;\n",
              "      fill: #D2E3FC;\n",
              "    }\n",
              "\n",
              "    [theme=dark] .colab-df-convert:hover {\n",
              "      background-color: #434B5C;\n",
              "      box-shadow: 0px 1px 3px 1px rgba(0, 0, 0, 0.15);\n",
              "      filter: drop-shadow(0px 1px 2px rgba(0, 0, 0, 0.3));\n",
              "      fill: #FFFFFF;\n",
              "    }\n",
              "  </style>\n",
              "\n",
              "      <script>\n",
              "        const buttonEl =\n",
              "          document.querySelector('#df-37ea0a02-facc-4050-8b98-d5ed3ab5fdbe button.colab-df-convert');\n",
              "        buttonEl.style.display =\n",
              "          google.colab.kernel.accessAllowed ? 'block' : 'none';\n",
              "\n",
              "        async function convertToInteractive(key) {\n",
              "          const element = document.querySelector('#df-37ea0a02-facc-4050-8b98-d5ed3ab5fdbe');\n",
              "          const dataTable =\n",
              "            await google.colab.kernel.invokeFunction('convertToInteractive',\n",
              "                                                     [key], {});\n",
              "          if (!dataTable) return;\n",
              "\n",
              "          const docLinkHtml = 'Like what you see? Visit the ' +\n",
              "            '<a target=\"_blank\" href=https://colab.research.google.com/notebooks/data_table.ipynb>data table notebook</a>'\n",
              "            + ' to learn more about interactive tables.';\n",
              "          element.innerHTML = '';\n",
              "          dataTable['output_type'] = 'display_data';\n",
              "          await google.colab.output.renderOutput(dataTable, element);\n",
              "          const docLink = document.createElement('div');\n",
              "          docLink.innerHTML = docLinkHtml;\n",
              "          element.appendChild(docLink);\n",
              "        }\n",
              "      </script>\n",
              "    </div>\n",
              "  </div>\n",
              "  "
            ]
          },
          "metadata": {},
          "execution_count": 121
        }
      ]
    },
    {
      "cell_type": "code",
      "source": [
        "test = test.iloc[: , 1:22]\n",
        "test = test.to_numpy()\n",
        "for i in range(20):\n",
        "  test[:, i] = (test[:,i] - min[i]) / (max[i] - min[i])"
      ],
      "metadata": {
        "id": "ldSMgy46tPyN"
      },
      "execution_count": null,
      "outputs": []
    },
    {
      "cell_type": "code",
      "source": [
        "testX = test[:, 0:20]\n",
        "testY = test[:, 20]"
      ],
      "metadata": {
        "id": "rLG8quALTwHz"
      },
      "execution_count": null,
      "outputs": []
    },
    {
      "cell_type": "code",
      "source": [
        "x0 = np.ones([np.shape(testX)[0], 1], dtype = int)\n",
        "testX = np.append(x0, testX, axis = 1)"
      ],
      "metadata": {
        "id": "64W7EsqPvJSM"
      },
      "execution_count": null,
      "outputs": []
    },
    {
      "cell_type": "code",
      "source": [
        "y_predtrain = np.dot(testX, theta)"
      ],
      "metadata": {
        "id": "KYdXnYwrhvsy"
      },
      "execution_count": null,
      "outputs": []
    },
    {
      "cell_type": "code",
      "source": [
        "rmserror = np.sqrt(np.sum(np.square(y_predtrain - testY))/(testX.shape[0]))\n",
        "rmserror"
      ],
      "metadata": {
        "id": "MTLMaWaiCoCN",
        "colab": {
          "base_uri": "https://localhost:8080/"
        },
        "outputId": "09a93323-602d-400e-bfc6-09561a7ac6aa"
      },
      "execution_count": null,
      "outputs": [
        {
          "output_type": "execute_result",
          "data": {
            "text/plain": [
              "1.8286878287640866"
            ]
          },
          "metadata": {},
          "execution_count": 126
        }
      ]
    }
  ]
}
