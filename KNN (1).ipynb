{
  "nbformat": 4,
  "nbformat_minor": 0,
  "metadata": {
    "colab": {
      "name": "KNN.ipynb",
      "provenance": [],
      "collapsed_sections": []
    },
    "kernelspec": {
      "name": "python3",
      "display_name": "Python 3"
    },
    "language_info": {
      "name": "python"
    }
  },
  "cells": [
    {
      "cell_type": "code",
      "execution_count": 11,
      "metadata": {
        "id": "p7n9dvmKvrwk",
        "colab": {
          "base_uri": "https://localhost:8080/"
        },
        "outputId": "67643df7-efb8-4c36-a10d-d79107c1fdc6"
      },
      "outputs": [
        {
          "output_type": "stream",
          "name": "stdout",
          "text": [
            "Drive already mounted at /content/drive; to attempt to forcibly remount, call drive.mount(\"/content/drive\", force_remount=True).\n"
          ]
        }
      ],
      "source": [
        "from google.colab import drive\n",
        "drive.mount('/content/drive')"
      ]
    },
    {
      "cell_type": "code",
      "source": [
        "%cd /content/drive/MyDrive/logistic"
      ],
      "metadata": {
        "colab": {
          "base_uri": "https://localhost:8080/"
        },
        "id": "ISC9NrhLCBk7",
        "outputId": "c2c2e40d-92fe-498a-ff47-566c7ad64aca"
      },
      "execution_count": 12,
      "outputs": [
        {
          "output_type": "stream",
          "name": "stdout",
          "text": [
            "/content/drive/MyDrive/logistic\n"
          ]
        }
      ]
    },
    {
      "cell_type": "code",
      "source": [
        "import numpy as np\n",
        "import pandas as pd\n",
        "import matplotlib.pyplot as mpl\n",
        "from scipy.stats import mode"
      ],
      "metadata": {
        "id": "kCeof7aECECW"
      },
      "execution_count": 13,
      "outputs": []
    },
    {
      "cell_type": "code",
      "source": [
        "train = pd.read_csv('/content/drive/MyDrive/logistic/emnist-letters-train.csv', header= None)\n",
        "train = train.to_numpy()\n",
        "testdf = pd.read_csv('/content/drive/MyDrive/logistic/emnist-letters-test.csv', header= None)\n",
        "test = testdf.sample(frac=1)\n",
        "test = test.to_numpy()"
      ],
      "metadata": {
        "id": "NucSx3mLCErX"
      },
      "execution_count": 14,
      "outputs": []
    },
    {
      "cell_type": "code",
      "source": [
        "trainX = train[0:62000, 1:]\n",
        "trainY = train[0:62000, 0]\n",
        "testX = test[0:5000, 1:]\n",
        "testY = test[0:5000, 0]"
      ],
      "metadata": {
        "id": "sposDsDvJbig"
      },
      "execution_count": 35,
      "outputs": []
    },
    {
      "cell_type": "code",
      "source": [
        "def distance(P, Q):\n",
        "  return np.sqrt(np.sum((P-Q)**2))"
      ],
      "metadata": {
        "id": "q9S0Tx4HK-bK"
      },
      "execution_count": 36,
      "outputs": []
    },
    {
      "cell_type": "code",
      "source": [
        "def KNN(testX, testY, trainX, trainY, kval):\n",
        "  predicted = []\n",
        "  for i in range(0, testX.shape[0]):\n",
        "    dis = []\n",
        "    for j in range(0, trainX.shape[0]):\n",
        "      d = (distance(trainX[j], testX[i]))\n",
        "      dis.append(d)\n",
        "\n",
        "    data = list(zip(dis, trainY.tolist()))\n",
        "    df = pd.DataFrame(data, columns=['Distances','TrainY'])\n",
        "    neighbors_list = df.sort_values(by = ['Distances'], axis = 0)[ :kval]\n",
        "    neighbors = neighbors_list.iloc[:, 1]\n",
        "    moded = mode(neighbors).mode[0]\n",
        "    predicted.append(moded)\n",
        "  return predicted"
      ],
      "metadata": {
        "id": "MLMX5sh5eiCu"
      },
      "execution_count": 37,
      "outputs": []
    },
    {
      "cell_type": "code",
      "source": [
        "def accuracy(label, preds):\n",
        "  truthtable = (label == preds).astype(int)\n",
        "  truthlist = truthtable.tolist()\n",
        "  accuracy = (truthlist.count(1))*(100/(np.shape(preds)[0]))\n",
        "  print(\"Accuracy is\", accuracy , \"%\" )\n",
        "  return accuracy"
      ],
      "metadata": {
        "id": "D2U_fQXgDjGL"
      },
      "execution_count": 38,
      "outputs": []
    },
    {
      "cell_type": "code",
      "source": [
        "# This was written just to get the best value of k for which accuracy is maximum\n",
        "\n",
        "# accvalues = []\n",
        "# for i in range(1,20,2):\n",
        "#   pred = KNN(testX = testX, testY = testY, trainX = trainX, trainY = trainY, kval = i)\n",
        "#   accvalues.append(accuracy(testY, pred)) \n",
        "# kval =[]\n",
        "# for i in range(10):\n",
        "#   kval.append(2*i+1)\n",
        "# mpl.plot(kval, accvalues , marker= 'x')"
      ],
      "metadata": {
        "id": "VBe4SOqCqzTG"
      },
      "execution_count": 39,
      "outputs": []
    },
    {
      "cell_type": "code",
      "source": [
        "pred = KNN(testX = testX, testY = testY, trainX = trainX, trainY = trainY, kval = 5)"
      ],
      "metadata": {
        "id": "5Rg8ebD3Ub74"
      },
      "execution_count": null,
      "outputs": []
    },
    {
      "cell_type": "code",
      "source": [
        "accuracy(testY, pred)"
      ],
      "metadata": {
        "id": "HT_yfdExE-Xy",
        "colab": {
          "base_uri": "https://localhost:8080/"
        },
        "outputId": "680a364e-8d0c-411b-e200-2751c9fe91d0"
      },
      "execution_count": 42,
      "outputs": [
        {
          "output_type": "stream",
          "name": "stdout",
          "text": [
            "Accuracy is 83.46000000000001 %\n"
          ]
        },
        {
          "output_type": "execute_result",
          "data": {
            "text/plain": [
              "83.46000000000001"
            ]
          },
          "metadata": {},
          "execution_count": 42
        }
      ]
    },
    {
      "cell_type": "code",
      "source": [
        ""
      ],
      "metadata": {
        "id": "7DSH5hrC4SgA"
      },
      "execution_count": null,
      "outputs": []
    }
  ]
}