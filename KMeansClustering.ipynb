{
  "cells": [
    {
      "cell_type": "code",
      "execution_count": null,
      "metadata": {
        "colab": {
          "base_uri": "https://localhost:8080/"
        },
        "id": "7125jnNdkxta",
        "outputId": "186a37cc-74bd-43d8-912e-eaedd91bf0d5"
      },
      "outputs": [
        {
          "name": "stdout",
          "output_type": "stream",
          "text": [
            "Drive already mounted at /content/drive; to attempt to forcibly remount, call drive.mount(\"/content/drive\", force_remount=True).\n"
          ]
        }
      ],
      "source": [
        "from google.colab import drive\n",
        "drive.mount('/content/drive')"
      ]
    },
    {
      "cell_type": "code",
      "execution_count": null,
      "metadata": {
        "colab": {
          "base_uri": "https://localhost:8080/"
        },
        "id": "3UUlSKGKlUij",
        "outputId": "aae9c917-9a3a-4f2c-c03e-ad34c5bd2742"
      },
      "outputs": [
        {
          "name": "stdout",
          "output_type": "stream",
          "text": [
            "/content/drive/MyDrive/logistic\n"
          ]
        }
      ],
      "source": [
        "%cd /content/drive/MyDrive/logistic"
      ]
    },
    {
      "cell_type": "code",
      "execution_count": null,
      "metadata": {
        "id": "YBoCD2lTlWZw"
      },
      "outputs": [],
      "source": [
        "import numpy as np\n",
        "import pandas as pd\n",
        "import matplotlib.pyplot as mpl\n",
        "from scipy.stats import mode"
      ]
    },
    {
      "cell_type": "code",
      "execution_count": null,
      "metadata": {
        "id": "Y60pYykgldXB"
      },
      "outputs": [],
      "source": [
        "df = pd.read_csv('/content/drive/MyDrive/logistic/emnist-letters-train.csv', header= None)\n",
        "data = df.to_numpy()"
      ]
    },
    {
      "cell_type": "code",
      "execution_count": null,
      "metadata": {
        "id": "-Yf-WVeDls57"
      },
      "outputs": [],
      "source": [
        "dataX = data[0:60000, 1:]\n",
        "dataY = data[0:60000, 0]"
      ]
    },
    {
      "cell_type": "code",
      "execution_count": null,
      "metadata": {
        "colab": {
          "base_uri": "https://localhost:8080/"
        },
        "id": "gTzu_LGhh4JW",
        "outputId": "1168d735-3d7a-4e0f-9250-d7bc849ebeb8"
      },
      "outputs": [
        {
          "data": {
            "text/plain": [
              "(60000, 784)"
            ]
          },
          "execution_count": 113,
          "metadata": {},
          "output_type": "execute_result"
        }
      ],
      "source": [
        "dataX.shape"
      ]
    },
    {
      "cell_type": "code",
      "execution_count": null,
      "metadata": {
        "id": "3t_RWzopyWXQ"
      },
      "outputs": [],
      "source": [
        "def distance(P, Q):\n",
        "  return np.sqrt(((P-Q)**2).sum)"
      ]
    },
    {
      "cell_type": "markdown",
      "metadata": {},
      "source": [
        "### To find the value of k"
      ]
    },
    {
      "cell_type": "code",
      "execution_count": null,
      "metadata": {
        "id": "3rrlm2M1ltkB"
      },
      "outputs": [],
      "source": [
        "# def mean_distance(P, Q):\n",
        "#   return np.mean(np.sqrt(((P-Q)**2).sum(axis = 1)))\n",
        "\n",
        "# def kmeans(dataX, dataY):\n",
        "#   wcss_list = []\n",
        "#   for k in range(1, 40):\n",
        "#     print(k)\n",
        "#     centers= dataX[np.random.choice((np.shape(dataX)[0]), k, replace = False),:]\n",
        "#     distances = np.zeros([np.shape(dataX)[0], k], dtype = int)\n",
        "#     closest_point = np.argmin(distances, axis=1)\n",
        "\n",
        "#     while True:\n",
        "#       old_closest = closest_point.copy()\n",
        "\n",
        "#       for i in range(k):\n",
        "#         distances[:, i] = (((dataX - centers[i])**2).sum(axis = 1))**0.5\n",
        "      \n",
        "#       closest_point = np.argmin(distances, axis=1)\n",
        "\n",
        "#       for i in range(k):\n",
        "#         centers[i,:] = (dataX[closest_point==i]).mean(axis = 0)\n",
        "      \n",
        "#       # wcss\n",
        "#       dis = []\n",
        "#       for i in range(k):\n",
        "#         a = mean_distance(dataX[np.where(closest_point == i)], centers[i])\n",
        "#         dis.append(a)\n",
        "#       wcss = sum(dis)/len(dis)\n",
        "\n",
        "#       if all(old_closest == closest_point):\n",
        "#         break\n",
        "#     wcss_list.append(wcss)\n",
        "\n",
        "\n",
        "#   return closest_point, centers, wcss_list"
      ]
    },
    {
      "cell_type": "code",
      "execution_count": null,
      "metadata": {
        "id": "NP6wEctqlLf3"
      },
      "outputs": [],
      "source": [
        "# closest_point, centers, wcss_list = kmeans(dataX, dataY)\n",
        "# x =np.arange(1,40)\n",
        "# mpl.plot(x , wcss_list)\n",
        "# mpl.xticks(x)\n",
        "# mpl.show"
      ]
    },
    {
      "cell_type": "markdown",
      "metadata": {},
      "source": [
        "### This was the plot we got"
      ]
    },
    {
      "cell_type": "markdown",
      "metadata": {
        "id": "fBzpvM1hmKL4"
      },
      "source": [
        "![plt.png](data:image/png;base64,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)"
      ]
    },
    {
      "cell_type": "code",
      "execution_count": null,
      "metadata": {
        "id": "4lyiN59Cw4E5"
      },
      "outputs": [],
      "source": [
        "def kmeans(dataX, dataY, k):\n",
        "\n",
        "  #Taking Random Centers\n",
        "  centers= dataX[np.random.choice((np.shape(dataX)[0]), k, replace = False),:]\n",
        "\n",
        "  distances = np.zeros([np.shape(dataX)[0], k], dtype = int)  #examples,k\n",
        "\n",
        "  closest_point = np.argmin(distances, axis=1)\n",
        "\n",
        "  while True:\n",
        "  # for iter in range(500):\n",
        "  \n",
        "    older = closest_point.copy()  #This is used to break the loop\n",
        "\n",
        "  #Distance of each point with centers. \n",
        "    for i in range(k):\n",
        "      distances[:, i] = (((dataX - centers[i])**2).sum(axis = 1))**0.5     #examples,k\n",
        "      \n",
        "    closest_point = np.argmin(distances, axis=1)   #Returns a matrix of examples,1\n",
        "\n",
        "  #Now for new centers, I took the mean of the dataX points belonging to that cluster.\n",
        "\n",
        "    for i in range(k):\n",
        "      centers[i,:] = (dataX[np.where(closest_point==i)]).mean(axis = 0) \n",
        "\n",
        "  #Break the loop when no chenge in clusters\n",
        "    if all(older == closest_point):\n",
        "      break\n",
        "\n",
        "  return closest_point, centers"
      ]
    },
    {
      "cell_type": "code",
      "execution_count": null,
      "metadata": {
        "id": "pw2z6qAQjabC"
      },
      "outputs": [],
      "source": [
        "k=30\n",
        "closest_point, centers = kmeans(dataX, dataY, k=k)"
      ]
    },
    {
      "cell_type": "markdown",
      "metadata": {},
      "source": [
        "#### Assigning Label to my cluster"
      ]
    },
    {
      "cell_type": "code",
      "execution_count": null,
      "metadata": {
        "colab": {
          "base_uri": "https://localhost:8080/"
        },
        "id": "Rvqcxks8DPWE",
        "outputId": "69e19ea7-b591-403e-cd8e-2b6312653c67"
      },
      "outputs": [
        {
          "name": "stdout",
          "output_type": "stream",
          "text": [
            "cluster 0 belogs to label 16.0\n",
            "cluster 1 belogs to label 14.0\n",
            "cluster 2 belogs to label 6.0\n",
            "cluster 3 belogs to label 9.0\n",
            "cluster 4 belogs to label 1.0\n",
            "cluster 5 belogs to label 17.0\n",
            "cluster 6 belogs to label 4.0\n",
            "cluster 7 belogs to label 15.0\n",
            "cluster 8 belogs to label 26.0\n",
            "cluster 9 belogs to label 3.0\n",
            "cluster 10 belogs to label 23.0\n",
            "cluster 11 belogs to label 24.0\n",
            "cluster 12 belogs to label 19.0\n",
            "cluster 13 belogs to label 21.0\n",
            "cluster 14 belogs to label 3.0\n",
            "cluster 15 belogs to label 9.0\n",
            "cluster 16 belogs to label 3.0\n",
            "cluster 17 belogs to label 25.0\n",
            "cluster 18 belogs to label 16.0\n",
            "cluster 19 belogs to label 18.0\n",
            "cluster 20 belogs to label 1.0\n",
            "cluster 21 belogs to label 14.0\n",
            "cluster 22 belogs to label 13.0\n",
            "cluster 23 belogs to label 22.0\n",
            "cluster 24 belogs to label 5.0\n",
            "cluster 25 belogs to label 8.0\n",
            "cluster 26 belogs to label 10.0\n",
            "cluster 27 belogs to label 2.0\n",
            "cluster 28 belogs to label 11.0\n",
            "cluster 29 belogs to label 15.0\n"
          ]
        }
      ],
      "source": [
        "#Took all the dataY labels of a particular cluster then took mode. The Y value with maximum count was assigned the label of that cluster.\n",
        "claass =[]\n",
        "for q in range(k):\n",
        "  cluster = dataY[np.where(closest_point == q)].tolist()\n",
        "  val = mode(cluster).mode[0]\n",
        "  claass.append(val)\n",
        "for i in range(np.size(claass)):\n",
        "  print('cluster', i,'belogs to label', claass[i])"
      ]
    },
    {
      "cell_type": "code",
      "execution_count": null,
      "metadata": {
        "colab": {
          "base_uri": "https://localhost:8080/"
        },
        "id": "l4qQhpG45qxZ",
        "outputId": "d45c6873-8335-4d8d-fe6a-b262ff914380"
      },
      "outputs": [
        {
          "data": {
            "text/plain": [
              "42.445"
            ]
          },
          "execution_count": 124,
          "metadata": {},
          "output_type": "execute_result"
        }
      ],
      "source": [
        "#This is written just to check if my code is working properly. \n",
        "# I just reassigned the dataX to clusters and compared it with given Y values to get accuracy\n",
        "\n",
        "distances = np.zeros([np.shape(dataX)[0], k], dtype = int)\n",
        "for i in range(k):\n",
        "  distances[:, i] = (((dataX - centers[i])**2).sum(axis = 1))**0.5\n",
        "closest = np.argmin(distances, axis=1)\n",
        "\n",
        "preds = []\n",
        "for d in closest:\n",
        "  pred = claass[d]\n",
        "  preds.append(pred)\n",
        "\n",
        "truths = (preds == dataY).tolist()\n",
        "trues = truths.count(True)\n",
        "accuracy = trues*100/(np.shape(dataX)[0])\n",
        "accuracy"
      ]
    }
  ],
  "metadata": {
    "colab": {
      "collapsed_sections": [],
      "name": "kMeans.ipynb",
      "provenance": []
    },
    "kernelspec": {
      "display_name": "Python 3",
      "name": "python3"
    },
    "language_info": {
      "name": "python"
    }
  },
  "nbformat": 4,
  "nbformat_minor": 0
}
