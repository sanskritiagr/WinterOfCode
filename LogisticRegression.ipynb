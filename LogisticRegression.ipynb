{
  "cells": [
    {
      "cell_type": "code",
      "execution_count": 30,
      "metadata": {
        "colab": {
          "base_uri": "https://localhost:8080/"
        },
        "id": "VRckmjTm0P1v",
        "outputId": "51843384-8bff-4959-eb17-5926a5425b26"
      },
      "outputs": [
        {
          "output_type": "stream",
          "name": "stdout",
          "text": [
            "Drive already mounted at /content/drive; to attempt to forcibly remount, call drive.mount(\"/content/drive\", force_remount=True).\n"
          ]
        }
      ],
      "source": [
        "from google.colab import drive\n",
        "drive.mount('/content/drive')"
      ]
    },
    {
      "cell_type": "code",
      "execution_count": 31,
      "metadata": {
        "colab": {
          "base_uri": "https://localhost:8080/"
        },
        "id": "dK4MNxtf0adT",
        "outputId": "ed999919-c14d-4f11-c92d-1588c63bc711"
      },
      "outputs": [
        {
          "output_type": "stream",
          "name": "stdout",
          "text": [
            "/content/drive/MyDrive/logistic\n"
          ]
        }
      ],
      "source": [
        "%cd /content/drive/MyDrive/logistic"
      ]
    },
    {
      "cell_type": "code",
      "execution_count": 32,
      "metadata": {
        "id": "0y3RQJhu1fNK"
      },
      "outputs": [],
      "source": [
        "import numpy as np\n",
        "import pandas as pd\n",
        "import matplotlib.pyplot as mpl"
      ]
    },
    {
      "cell_type": "code",
      "execution_count": 33,
      "metadata": {
        "id": "nTOnj5_L1nX4"
      },
      "outputs": [],
      "source": [
        "traindf = pd.read_csv('/content/drive/MyDrive/logistic/emnist-letters-train.csv', header= None)"
      ]
    },
    {
      "cell_type": "code",
      "execution_count": 34,
      "metadata": {
        "colab": {
          "base_uri": "https://localhost:8080/"
        },
        "id": "V6kgaqNN2mxZ",
        "outputId": "cf3caf9b-4a0b-4282-eba8-75cd374dcf63"
      },
      "outputs": [
        {
          "output_type": "stream",
          "name": "stdout",
          "text": [
            "[[23.  0.  0. ...  0.  0.  0.]\n",
            " [ 7.  0.  0. ...  0.  0.  0.]\n",
            " [16.  0.  0. ...  0.  0.  0.]\n",
            " ...\n",
            " [11.  0.  0. ...  0.  0.  0.]\n",
            " [22.  0.  0. ...  0.  0.  0.]\n",
            " [25.  0.  0. ...  0.  0.  0.]]\n"
          ]
        }
      ],
      "source": [
        "train = traindf.to_numpy()\n",
        "train = train[0:62000,:]\n",
        "print(train)"
      ]
    },
    {
      "cell_type": "code",
      "execution_count": 35,
      "metadata": {
        "colab": {
          "base_uri": "https://localhost:8080/"
        },
        "id": "rOMizwk24xcL",
        "outputId": "4c99731c-adfb-45c0-ddee-f7077e8406cd"
      },
      "outputs": [
        {
          "output_type": "stream",
          "name": "stdout",
          "text": [
            "(62000, 785)\n"
          ]
        }
      ],
      "source": [
        "trainX = (train[:, 1:])/255\n",
        "\n",
        "x0 = np.ones([np.shape(trainX)[0], 1])\n",
        "trainX = np.concatenate((x0, trainX),axis = 1)\n",
        "print(np.shape(trainX))"
      ]
    },
    {
      "cell_type": "code",
      "execution_count": 36,
      "metadata": {
        "colab": {
          "base_uri": "https://localhost:8080/"
        },
        "id": "FxdTBx_obtLQ",
        "outputId": "aa2c3df1-d33f-4ab1-e04b-8b488937af7d"
      },
      "outputs": [
        {
          "output_type": "stream",
          "name": "stdout",
          "text": [
            "[[0. 0. 0. ... 0. 0. 0.]\n",
            " [0. 0. 0. ... 0. 0. 0.]\n",
            " [0. 0. 0. ... 0. 0. 0.]\n",
            " ...\n",
            " [0. 0. 0. ... 0. 0. 0.]\n",
            " [0. 0. 0. ... 0. 0. 0.]\n",
            " [0. 0. 0. ... 0. 1. 0.]]\n"
          ]
        }
      ],
      "source": [
        "trainY = train[:, 0]\n",
        "uniquech = set(trainY)\n",
        "logisticY = np.zeros([np.size(trainY), len(uniquech)])\n",
        "for i in range(np.size(trainY)):\n",
        "  for j in range(1, len(uniquech)+1):\n",
        "    if trainY[i] == j:\n",
        "      logisticY[i,j-1] = 1\n",
        "print(logisticY)"
      ]
    },
    {
      "cell_type": "code",
      "execution_count": 37,
      "metadata": {
        "id": "ceZBz_-l90cx"
      },
      "outputs": [],
      "source": [
        "def sigmoid(z):\n",
        "  return 1/ (1+np.exp(-z))"
      ]
    },
    {
      "cell_type": "code",
      "execution_count": 38,
      "metadata": {
        "id": "QMrLWsNZCqVA"
      },
      "outputs": [],
      "source": [
        "def grad(X, Y, learning_rate, noofiter):\n",
        "  row,column = np.shape(X)\n",
        "  theta = np.zeros([column, len(uniquech)], dtype = int)\n",
        "  costvalues = []\n",
        "\n",
        "  for t in range(noofiter):\n",
        "\n",
        "    z = np.dot(X, theta) \n",
        "    y_pred = sigmoid(z)\n",
        "\n",
        "    cost = (1/(row))*np.sum((-Y*np.log(y_pred)) - ((1-Y)*np.log( 1 - y_pred)))\n",
        "    costdif = (1/(row))*np.dot(X.T, y_pred - Y)\n",
        "    theta = theta - learning_rate*costdif\n",
        "    \n",
        "    costvalues.append(cost)\n",
        "\n",
        "    if( t % (noofiter/10) == 0):\n",
        "      print(\"Cost after\", t , \"is :\", cost)\n",
        "\n",
        "  return y_pred, theta, costvalues"
      ]
    },
    {
      "cell_type": "code",
      "execution_count": 39,
      "metadata": {
        "colab": {
          "base_uri": "https://localhost:8080/"
        },
        "id": "B-n9pm2ZruUS",
        "outputId": "7f1f9442-7fa3-40e1-de25-5007c22982ad"
      },
      "outputs": [
        {
          "output_type": "stream",
          "name": "stdout",
          "text": [
            "Cost after 0 is : 18.02182669455861\n",
            "Cost after 300 is : 1.9757428123321064\n",
            "Cost after 600 is : 1.8779689473909127\n",
            "Cost after 900 is : 1.8319831394504447\n",
            "Cost after 1200 is : 1.8052814376449635\n",
            "Cost after 1500 is : 1.7879914868302214\n",
            "Cost after 1800 is : 1.7759354096567244\n",
            "Cost after 2100 is : 1.7670441207763505\n",
            "Cost after 2400 is : 1.7601879744208968\n",
            "Cost after 2700 is : 1.7547060284399236\n"
          ]
        }
      ],
      "source": [
        "noofiter = 3000\n",
        "ypred, theta, costvalues = grad(X= trainX, Y = logisticY, learning_rate = 0.9, noofiter = noofiter)"
      ]
    },
    {
      "cell_type": "code",
      "execution_count": 40,
      "metadata": {
        "id": "8nCT7R-h29Wz",
        "colab": {
          "base_uri": "https://localhost:8080/",
          "height": 265
        },
        "outputId": "18f075e9-a0c7-431b-dd0c-081733ad118d"
      },
      "outputs": [
        {
          "output_type": "display_data",
          "data": {
            "text/plain": [
              "<Figure size 432x288 with 1 Axes>"
            ],
            "image/png": "[encoded data removed]"
          },
          "metadata": {
            "needs_background": "light"
          }
        }
      ],
      "source": [
        "mpl.plot(np.arange(noofiter), costvalues)\n",
        "mpl.show()"
      ]
    },
    {
      "cell_type": "code",
      "execution_count": 41,
      "metadata": {
        "id": "w0QDrDHb9th6"
      },
      "outputs": [],
      "source": [
        "index = np.argmax(ypred, axis=1)\n",
        "pred = np.zeros(ypred.shape)\n",
        "for i in range(np.shape(ypred)[0]):\n",
        "  pred[i][index[i]] = 1\n",
        "\n",
        "# for i in range(np.shape(ypred)[0]):\n",
        "#   for j in range(np.shape(ypred)[1]):\n",
        "#     if ypred[i][j] < 0.5:\n",
        "#       ypred[i][j] = False\n",
        "#     else:\n",
        "#       ypred[i][j] = True\n",
        "# ypred"
      ]
    },
    {
      "cell_type": "code",
      "execution_count": 42,
      "metadata": {
        "id": "rkJOZ_orBf3J",
        "colab": {
          "base_uri": "https://localhost:8080/"
        },
        "outputId": "b7e63a0f-1f70-458a-aac7-1637ecbb3e03"
      },
      "outputs": [
        {
          "output_type": "execute_result",
          "data": {
            "text/plain": [
              "array([[11],\n",
              "       [ 7],\n",
              "       [16],\n",
              "       ...,\n",
              "       [11],\n",
              "       [22],\n",
              "       [ 6]])"
            ]
          },
          "metadata": {},
          "execution_count": 42
        }
      ],
      "source": [
        "prediction = np.zeros([np.size(trainY) , 1], dtype = int)\n",
        "for i in range(np.shape(ypred)[0]):\n",
        "  for j in range(np.shape(ypred)[1]):\n",
        "    if pred[i][j] == 1:\n",
        "      prediction[i][0] = j + 1\n",
        "\n",
        "prediction"
      ]
    },
    {
      "cell_type": "code",
      "execution_count": 43,
      "metadata": {
        "id": "8hXXt1YrH5v6",
        "colab": {
          "base_uri": "https://localhost:8080/"
        },
        "outputId": "6c95376a-cec2-4d5b-eb35-d2a95f32e807"
      },
      "outputs": [
        {
          "output_type": "execute_result",
          "data": {
            "text/plain": [
              "array([[23.],\n",
              "       [ 7.],\n",
              "       [16.],\n",
              "       ...,\n",
              "       [11.],\n",
              "       [22.],\n",
              "       [25.]])"
            ]
          },
          "metadata": {},
          "execution_count": 43
        }
      ],
      "source": [
        "trainY = np.vstack(trainY)\n",
        "trainY"
      ]
    },
    {
      "cell_type": "code",
      "execution_count": 44,
      "metadata": {
        "id": "f_UURfzg6o_g",
        "colab": {
          "base_uri": "https://localhost:8080/"
        },
        "outputId": "8e296a51-d669-4a0d-993f-9375e32d20cc"
      },
      "outputs": [
        {
          "output_type": "stream",
          "name": "stdout",
          "text": [
            "[[ 1  0  0 ...  0  0  0]\n",
            " [ 1  0  0 ...  0  0  0]\n",
            " [ 1  0  0 ...  0  0  0]\n",
            " ...\n",
            " [19  0  0 ...  0  0  0]\n",
            " [19  0  0 ...  0  0  0]\n",
            " [19  0  0 ...  0  0  0]]\n"
          ]
        }
      ],
      "source": [
        "test = pd.read_csv('/content/drive/MyDrive/logistic/emnist-letters-test.csv', header= None)\n",
        "test = test.to_numpy()\n",
        "test = test[:,:]\n",
        "print(test)"
      ]
    },
    {
      "cell_type": "code",
      "execution_count": 45,
      "metadata": {
        "id": "OYXJuePn9bWv",
        "colab": {
          "base_uri": "https://localhost:8080/"
        },
        "outputId": "df38b903-bc10-46b5-d9c8-5958df4dcca6"
      },
      "outputs": [
        {
          "output_type": "stream",
          "name": "stdout",
          "text": [
            "[[1. 0. 0. ... 0. 0. 0.]\n",
            " [1. 0. 0. ... 0. 0. 0.]\n",
            " [1. 0. 0. ... 0. 0. 0.]\n",
            " ...\n",
            " [1. 0. 0. ... 0. 0. 0.]\n",
            " [1. 0. 0. ... 0. 0. 0.]\n",
            " [1. 0. 0. ... 0. 0. 0.]]\n"
          ]
        }
      ],
      "source": [
        "testX = (test[:, 1:])/255\n",
        "\n",
        "x0 = np.ones([np.shape(testX)[0], 1])\n",
        "testX = np.concatenate((x0, testX),axis = 1)\n",
        "print((testX))"
      ]
    },
    {
      "cell_type": "code",
      "execution_count": 46,
      "metadata": {
        "id": "spGoEbRl-G3K",
        "colab": {
          "base_uri": "https://localhost:8080/"
        },
        "outputId": "b980aba4-5839-42a4-af55-093df8285302"
      },
      "outputs": [
        {
          "output_type": "stream",
          "name": "stdout",
          "text": [
            "[[1. 0. 0. ... 0. 0. 0.]\n",
            " [1. 0. 0. ... 0. 0. 0.]\n",
            " [1. 0. 0. ... 0. 0. 0.]\n",
            " ...\n",
            " [0. 0. 0. ... 0. 0. 0.]\n",
            " [0. 0. 0. ... 0. 0. 0.]\n",
            " [0. 0. 0. ... 0. 0. 0.]]\n"
          ]
        }
      ],
      "source": [
        "testY = test[:, 0]\n",
        "\n",
        "vecY = np.zeros([np.size(testY), len(uniquech)])\n",
        "for i in range(np.size(testY)):\n",
        "  for j in range(1, len(uniquech)+1):\n",
        "    if testY[i] == j:\n",
        "      vecY[i,j-1] = 1\n",
        "print(vecY)"
      ]
    },
    {
      "cell_type": "code",
      "execution_count": 47,
      "metadata": {
        "id": "iaaqiaJL-XLe"
      },
      "outputs": [],
      "source": [
        "z = np.dot(testX, theta) \n",
        "y_pred = sigmoid(z)"
      ]
    },
    {
      "cell_type": "code",
      "execution_count": 48,
      "metadata": {
        "id": "Y-SgZapvZHwi"
      },
      "outputs": [],
      "source": [
        "indextest = np.argmax(y_pred, axis=1)\n",
        "pred = np.zeros(y_pred.shape)\n",
        "for i in range(np.shape(y_pred)[0]):\n",
        "  pred[i][indextest[i]] = 1"
      ]
    },
    {
      "cell_type": "code",
      "execution_count": 49,
      "metadata": {
        "id": "tQh6tdLYZMpI",
        "colab": {
          "base_uri": "https://localhost:8080/"
        },
        "outputId": "a516c351-1b77-43bb-d60f-dc158151a3f9"
      },
      "outputs": [
        {
          "output_type": "execute_result",
          "data": {
            "text/plain": [
              "array([[ 5],\n",
              "       [24],\n",
              "       [ 1],\n",
              "       ...,\n",
              "       [19],\n",
              "       [10],\n",
              "       [ 1]])"
            ]
          },
          "metadata": {},
          "execution_count": 49
        }
      ],
      "source": [
        "predictiontest = np.zeros([np.size(testY) , 1], dtype = int)\n",
        "for i in range(np.shape(pred)[0]):\n",
        "  for j in range(np.shape(pred)[1]):\n",
        "    if pred[i][j] == 1:\n",
        "      predictiontest[i][0] = j + 1\n",
        "\n",
        "predictiontest"
      ]
    },
    {
      "cell_type": "code",
      "source": [
        "def accuracy(label, preds):\n",
        "  truthtable = (label == preds).astype(int)\n",
        "  truthlist = truthtable.tolist()\n",
        "  accuracy = (truthlist.count([1]))*(100/(np.shape(preds)[0]))\n",
        "  print(\"Accuracy is\", accuracy , \"%\" )\n",
        "  return accuracy"
      ],
      "metadata": {
        "id": "_Epyq3jZYQbj"
      },
      "execution_count": 50,
      "outputs": []
    },
    {
      "cell_type": "code",
      "source": [
        "acc = accuracy(np.vstack(testY), predictiontest)"
      ],
      "metadata": {
        "colab": {
          "base_uri": "https://localhost:8080/"
        },
        "id": "IULbrqpnYeAJ",
        "outputId": "d9b707de-9414-4222-ad5b-637fcfb815cc"
      },
      "execution_count": 51,
      "outputs": [
        {
          "output_type": "stream",
          "name": "stdout",
          "text": [
            "Accuracy is 69.44594594594595 %\n"
          ]
        }
      ]
    }
  ],
  "metadata": {
    "colab": {
      "collapsed_sections": [],
      "name": "LogisticRegression.ipynb",
      "provenance": []
    },
    "kernelspec": {
      "display_name": "Python 3",
      "name": "python3"
    },
    "language_info": {
      "name": "python"
    }
  },
  "nbformat": 4,
  "nbformat_minor": 0
}